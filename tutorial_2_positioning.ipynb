{
 "cells": [
  {
   "cell_type": "code",
   "execution_count": 1,
   "id": "84189703",
   "metadata": {},
   "outputs": [],
   "source": [
    "#all imports\n",
    "import carla"
   ]
  },
  {
   "cell_type": "code",
   "execution_count": 2,
   "id": "c5846eae",
   "metadata": {},
   "outputs": [],
   "source": [
    "client = carla.Client('localhost', 2000)\n",
    "\n",
    "world = client.get_world()\n",
    "spawn_points = world.get_map().get_spawn_points()\n",
    "\n",
    "vehicle_bp = world.get_blueprint_library().filter('*firetruck*')\n",
    "start_point = spawn_points[0]\n",
    "vehicle = world.try_spawn_actor(vehicle_bp[0], start_point)"
   ]
  },
  {
   "cell_type": "code",
   "execution_count": 3,
   "id": "598d2c5c",
   "metadata": {},
   "outputs": [
    {
     "name": "stdout",
     "output_type": "stream",
     "text": [
      "Transform(Location(x=-64.645012, y=24.471334, z=-0.025856), Rotation(pitch=-0.013551, yaw=0.159270, roll=-0.319244))\n"
     ]
    }
   ],
   "source": [
    "# get the car's position on the map \n",
    "vehicle_pos = vehicle.get_transform()\n",
    "print(vehicle_pos)"
   ]
  },
  {
   "cell_type": "code",
   "execution_count": 4,
   "id": "33b88a12",
   "metadata": {},
   "outputs": [
    {
     "name": "stdout",
     "output_type": "stream",
     "text": [
      "Transform(Location(x=-64.644844, y=24.471010, z=0.600000), Rotation(pitch=0.000000, yaw=0.159198, roll=0.000000))\n"
     ]
    }
   ],
   "source": [
    "# initial spawn point is the same - just 0.6m higher off the ground\n",
    "print(start_point)"
   ]
  },
  {
   "cell_type": "code",
   "execution_count": 5,
   "id": "365eee2c",
   "metadata": {},
   "outputs": [],
   "source": [
    "#send vehicle off\n",
    "vehicle.set_autopilot(True)"
   ]
  },
  {
   "cell_type": "code",
   "execution_count": 9,
   "id": "233cd16e",
   "metadata": {},
   "outputs": [
    {
     "name": "stdout",
     "output_type": "stream",
     "text": [
      "Transform(Location(x=-64.933304, y=24.399183, z=-0.004214), Rotation(pitch=0.074046, yaw=-1.516113, roll=0.064976))\n"
     ]
    }
   ],
   "source": [
    "# get actual position from the car moving\n",
    "vehicle_pos = vehicle.get_transform()\n",
    "print(vehicle_pos)"
   ]
  },
  {
   "cell_type": "code",
   "execution_count": 10,
   "id": "24e9be89",
   "metadata": {},
   "outputs": [],
   "source": [
    "# now look at the map\n",
    "town_map = world.get_map()"
   ]
  },
  {
   "cell_type": "code",
   "execution_count": 11,
   "id": "39caeb6f",
   "metadata": {},
   "outputs": [
    {
     "data": {
      "text/plain": [
       "carla.libcarla.Map"
      ]
     },
     "execution_count": 11,
     "metadata": {},
     "output_type": "execute_result"
    }
   ],
   "source": [
    "type(town_map)"
   ]
  },
  {
   "cell_type": "code",
   "execution_count": 12,
   "id": "ca0be330",
   "metadata": {},
   "outputs": [
    {
     "name": "stdout",
     "output_type": "stream",
     "text": [
      "Map(name=Carla/Maps/Town10HD_Opt)\n"
     ]
    }
   ],
   "source": [
    "print(town_map)"
   ]
  },
  {
   "cell_type": "code",
   "execution_count": 13,
   "id": "7b407a5b",
   "metadata": {},
   "outputs": [],
   "source": [
    "roads = town_map.get_topology()"
   ]
  },
  {
   "cell_type": "code",
   "execution_count": 14,
   "id": "e1d93d9f",
   "metadata": {},
   "outputs": [
    {
     "name": "stdout",
     "output_type": "stream",
     "text": [
      "[(<carla.libcarla.Waypoint object at 0x7f19fc158c80>, <carla.libcarla.Waypoint object at 0x7f19fc158d60>), (<carla.libcarla.Waypoint object at 0x7f19fc158dd0>, <carla.libcarla.Waypoint object at 0x7f19fc158e40>), (<carla.libcarla.Waypoint object at 0x7f19fc158eb0>, <carla.libcarla.Waypoint object at 0x7f19fc158f20>), (<carla.libcarla.Waypoint object at 0x7f19fc158f90>, <carla.libcarla.Waypoint object at 0x7f19fc10c040>), (<carla.libcarla.Waypoint object at 0x7f19fc10c0b0>, <carla.libcarla.Waypoint object at 0x7f19fc10c120>), (<carla.libcarla.Waypoint object at 0x7f19fc10c190>, <carla.libcarla.Waypoint object at 0x7f19fc10c200>), (<carla.libcarla.Waypoint object at 0x7f19fc10c270>, <carla.libcarla.Waypoint object at 0x7f19fc10c2e0>), (<carla.libcarla.Waypoint object at 0x7f19fc10c350>, <carla.libcarla.Waypoint object at 0x7f19fc10c3c0>), (<carla.libcarla.Waypoint object at 0x7f19fc10c430>, <carla.libcarla.Waypoint object at 0x7f19fc10c4a0>), (<carla.libcarla.Waypoint object at 0x7f19fc10c510>, <carla.libcarla.Waypoint object at 0x7f19fc10c580>), (<carla.libcarla.Waypoint object at 0x7f19fc10c5f0>, <carla.libcarla.Waypoint object at 0x7f19fc10c660>), (<carla.libcarla.Waypoint object at 0x7f19fc10c6d0>, <carla.libcarla.Waypoint object at 0x7f19fc10c740>), (<carla.libcarla.Waypoint object at 0x7f19fc10c7b0>, <carla.libcarla.Waypoint object at 0x7f19fc10c820>), (<carla.libcarla.Waypoint object at 0x7f19fc10c890>, <carla.libcarla.Waypoint object at 0x7f19fc10c900>), (<carla.libcarla.Waypoint object at 0x7f19fc10c970>, <carla.libcarla.Waypoint object at 0x7f19fc10c9e0>), (<carla.libcarla.Waypoint object at 0x7f19fc10ca50>, <carla.libcarla.Waypoint object at 0x7f19fc10cac0>), (<carla.libcarla.Waypoint object at 0x7f19fc10cb30>, <carla.libcarla.Waypoint object at 0x7f19fc10cba0>), (<carla.libcarla.Waypoint object at 0x7f19fc10cc10>, <carla.libcarla.Waypoint object at 0x7f19fc10cc80>), (<carla.libcarla.Waypoint object at 0x7f19fc10ccf0>, <carla.libcarla.Waypoint object at 0x7f19fc10cd60>), (<carla.libcarla.Waypoint object at 0x7f19fc10cdd0>, <carla.libcarla.Waypoint object at 0x7f19fc10ce40>), (<carla.libcarla.Waypoint object at 0x7f19fc10ceb0>, <carla.libcarla.Waypoint object at 0x7f19fc10cf20>), (<carla.libcarla.Waypoint object at 0x7f19fc10cf90>, <carla.libcarla.Waypoint object at 0x7f19fc10d040>), (<carla.libcarla.Waypoint object at 0x7f19fc10d0b0>, <carla.libcarla.Waypoint object at 0x7f19fc10d120>), (<carla.libcarla.Waypoint object at 0x7f19fc10d190>, <carla.libcarla.Waypoint object at 0x7f19fc10d200>), (<carla.libcarla.Waypoint object at 0x7f19fc10d270>, <carla.libcarla.Waypoint object at 0x7f19fc10d2e0>), (<carla.libcarla.Waypoint object at 0x7f19fc10d350>, <carla.libcarla.Waypoint object at 0x7f19fc10d3c0>), (<carla.libcarla.Waypoint object at 0x7f19fc10d430>, <carla.libcarla.Waypoint object at 0x7f19fc10d4a0>), (<carla.libcarla.Waypoint object at 0x7f19fc10d510>, <carla.libcarla.Waypoint object at 0x7f19fc10d580>), (<carla.libcarla.Waypoint object at 0x7f19fc10d5f0>, <carla.libcarla.Waypoint object at 0x7f19fc10d660>), (<carla.libcarla.Waypoint object at 0x7f19fc10d6d0>, <carla.libcarla.Waypoint object at 0x7f19fc10d740>), (<carla.libcarla.Waypoint object at 0x7f19fc10d7b0>, <carla.libcarla.Waypoint object at 0x7f19fc10d820>), (<carla.libcarla.Waypoint object at 0x7f19fc10d890>, <carla.libcarla.Waypoint object at 0x7f19fc10d900>), (<carla.libcarla.Waypoint object at 0x7f19fc10d970>, <carla.libcarla.Waypoint object at 0x7f19fc10d9e0>), (<carla.libcarla.Waypoint object at 0x7f19fc10da50>, <carla.libcarla.Waypoint object at 0x7f19fc10dac0>), (<carla.libcarla.Waypoint object at 0x7f19fc10db30>, <carla.libcarla.Waypoint object at 0x7f19fc10dba0>), (<carla.libcarla.Waypoint object at 0x7f19fc10dc10>, <carla.libcarla.Waypoint object at 0x7f19fc10dc80>), (<carla.libcarla.Waypoint object at 0x7f19fc10dcf0>, <carla.libcarla.Waypoint object at 0x7f19fc10dd60>), (<carla.libcarla.Waypoint object at 0x7f19fc10ddd0>, <carla.libcarla.Waypoint object at 0x7f19fc10de40>), (<carla.libcarla.Waypoint object at 0x7f19fc10deb0>, <carla.libcarla.Waypoint object at 0x7f19fc10df20>), (<carla.libcarla.Waypoint object at 0x7f19fc10df90>, <carla.libcarla.Waypoint object at 0x7f19fc10e040>), (<carla.libcarla.Waypoint object at 0x7f19fc10e0b0>, <carla.libcarla.Waypoint object at 0x7f19fc10e120>), (<carla.libcarla.Waypoint object at 0x7f19fc10e190>, <carla.libcarla.Waypoint object at 0x7f19fc10e200>), (<carla.libcarla.Waypoint object at 0x7f19fc10e270>, <carla.libcarla.Waypoint object at 0x7f19fc10e2e0>), (<carla.libcarla.Waypoint object at 0x7f19fc10e350>, <carla.libcarla.Waypoint object at 0x7f19fc10e3c0>), (<carla.libcarla.Waypoint object at 0x7f19fc10e430>, <carla.libcarla.Waypoint object at 0x7f19fc10e4a0>), (<carla.libcarla.Waypoint object at 0x7f19fc10e510>, <carla.libcarla.Waypoint object at 0x7f19fc10e580>), (<carla.libcarla.Waypoint object at 0x7f19fc10e5f0>, <carla.libcarla.Waypoint object at 0x7f19fc10e660>), (<carla.libcarla.Waypoint object at 0x7f19fc10e6d0>, <carla.libcarla.Waypoint object at 0x7f19fc10e740>), (<carla.libcarla.Waypoint object at 0x7f19fc10e7b0>, <carla.libcarla.Waypoint object at 0x7f19fc10e820>), (<carla.libcarla.Waypoint object at 0x7f19fc10e890>, <carla.libcarla.Waypoint object at 0x7f19fc10e900>), (<carla.libcarla.Waypoint object at 0x7f19fc10e970>, <carla.libcarla.Waypoint object at 0x7f19fc10e9e0>), (<carla.libcarla.Waypoint object at 0x7f19fc10ea50>, <carla.libcarla.Waypoint object at 0x7f19fc10eac0>), (<carla.libcarla.Waypoint object at 0x7f19fc10eb30>, <carla.libcarla.Waypoint object at 0x7f19fc10eba0>), (<carla.libcarla.Waypoint object at 0x7f19fc10ec10>, <carla.libcarla.Waypoint object at 0x7f19fc10ec80>), (<carla.libcarla.Waypoint object at 0x7f19fc10ecf0>, <carla.libcarla.Waypoint object at 0x7f19fc10ed60>), (<carla.libcarla.Waypoint object at 0x7f19fc10edd0>, <carla.libcarla.Waypoint object at 0x7f19fc10ee40>), (<carla.libcarla.Waypoint object at 0x7f19fc10eeb0>, <carla.libcarla.Waypoint object at 0x7f19fc10ef20>), (<carla.libcarla.Waypoint object at 0x7f19fc10ef90>, <carla.libcarla.Waypoint object at 0x7f19fc10f040>), (<carla.libcarla.Waypoint object at 0x7f19fc10f0b0>, <carla.libcarla.Waypoint object at 0x7f19fc10f120>), (<carla.libcarla.Waypoint object at 0x7f19fc10f190>, <carla.libcarla.Waypoint object at 0x7f19fc10f200>), (<carla.libcarla.Waypoint object at 0x7f19fc10f270>, <carla.libcarla.Waypoint object at 0x7f19fc10f2e0>), (<carla.libcarla.Waypoint object at 0x7f19fc10f350>, <carla.libcarla.Waypoint object at 0x7f19fc10f3c0>), (<carla.libcarla.Waypoint object at 0x7f19fc10f430>, <carla.libcarla.Waypoint object at 0x7f19fc10f4a0>), (<carla.libcarla.Waypoint object at 0x7f19fc10f510>, <carla.libcarla.Waypoint object at 0x7f19fc10f580>), (<carla.libcarla.Waypoint object at 0x7f19fc10f5f0>, <carla.libcarla.Waypoint object at 0x7f19fc10f660>), (<carla.libcarla.Waypoint object at 0x7f19fc10f6d0>, <carla.libcarla.Waypoint object at 0x7f19fc10f740>), (<carla.libcarla.Waypoint object at 0x7f19fc10f7b0>, <carla.libcarla.Waypoint object at 0x7f19fc10f820>), (<carla.libcarla.Waypoint object at 0x7f19fc10f890>, <carla.libcarla.Waypoint object at 0x7f19fc10f900>), (<carla.libcarla.Waypoint object at 0x7f19fc10f970>, <carla.libcarla.Waypoint object at 0x7f19fc10f9e0>), (<carla.libcarla.Waypoint object at 0x7f19fc10fa50>, <carla.libcarla.Waypoint object at 0x7f19fc10fac0>), (<carla.libcarla.Waypoint object at 0x7f19fc10fb30>, <carla.libcarla.Waypoint object at 0x7f19fc10fba0>), (<carla.libcarla.Waypoint object at 0x7f19fc10fc10>, <carla.libcarla.Waypoint object at 0x7f19fc10fc80>), (<carla.libcarla.Waypoint object at 0x7f19fc10fcf0>, <carla.libcarla.Waypoint object at 0x7f19fc10fd60>), (<carla.libcarla.Waypoint object at 0x7f19fc10fdd0>, <carla.libcarla.Waypoint object at 0x7f19fc10fe40>), (<carla.libcarla.Waypoint object at 0x7f19fc10feb0>, <carla.libcarla.Waypoint object at 0x7f19fc10ff20>), (<carla.libcarla.Waypoint object at 0x7f19fc10ff90>, <carla.libcarla.Waypoint object at 0x7f19fc110040>), (<carla.libcarla.Waypoint object at 0x7f19fc1100b0>, <carla.libcarla.Waypoint object at 0x7f19fc110120>), (<carla.libcarla.Waypoint object at 0x7f19fc110190>, <carla.libcarla.Waypoint object at 0x7f19fc110200>), (<carla.libcarla.Waypoint object at 0x7f19fc110270>, <carla.libcarla.Waypoint object at 0x7f19fc1102e0>), (<carla.libcarla.Waypoint object at 0x7f19fc110350>, <carla.libcarla.Waypoint object at 0x7f19fc1103c0>), (<carla.libcarla.Waypoint object at 0x7f19fc110430>, <carla.libcarla.Waypoint object at 0x7f19fc1104a0>), (<carla.libcarla.Waypoint object at 0x7f19fc110510>, <carla.libcarla.Waypoint object at 0x7f19fc110580>), (<carla.libcarla.Waypoint object at 0x7f19fc1105f0>, <carla.libcarla.Waypoint object at 0x7f19fc110660>), (<carla.libcarla.Waypoint object at 0x7f19fc1106d0>, <carla.libcarla.Waypoint object at 0x7f19fc110740>), (<carla.libcarla.Waypoint object at 0x7f19fc1107b0>, <carla.libcarla.Waypoint object at 0x7f19fc110820>), (<carla.libcarla.Waypoint object at 0x7f19fc110890>, <carla.libcarla.Waypoint object at 0x7f19fc110900>), (<carla.libcarla.Waypoint object at 0x7f19fc110970>, <carla.libcarla.Waypoint object at 0x7f19fc1109e0>), (<carla.libcarla.Waypoint object at 0x7f19fc110a50>, <carla.libcarla.Waypoint object at 0x7f19fc110ac0>), (<carla.libcarla.Waypoint object at 0x7f19fc110b30>, <carla.libcarla.Waypoint object at 0x7f19fc110ba0>), (<carla.libcarla.Waypoint object at 0x7f19fc110c10>, <carla.libcarla.Waypoint object at 0x7f19fc110c80>), (<carla.libcarla.Waypoint object at 0x7f19fc110cf0>, <carla.libcarla.Waypoint object at 0x7f19fc110d60>), (<carla.libcarla.Waypoint object at 0x7f19fc110dd0>, <carla.libcarla.Waypoint object at 0x7f19fc110e40>), (<carla.libcarla.Waypoint object at 0x7f19fc110eb0>, <carla.libcarla.Waypoint object at 0x7f19fc110f20>), (<carla.libcarla.Waypoint object at 0x7f19fc110f90>, <carla.libcarla.Waypoint object at 0x7f19fc111040>), (<carla.libcarla.Waypoint object at 0x7f19fc1110b0>, <carla.libcarla.Waypoint object at 0x7f19fc111120>), (<carla.libcarla.Waypoint object at 0x7f19fc111190>, <carla.libcarla.Waypoint object at 0x7f19fc111200>), (<carla.libcarla.Waypoint object at 0x7f19fc111270>, <carla.libcarla.Waypoint object at 0x7f19fc1112e0>), (<carla.libcarla.Waypoint object at 0x7f19fc111350>, <carla.libcarla.Waypoint object at 0x7f19fc1113c0>), (<carla.libcarla.Waypoint object at 0x7f19fc111430>, <carla.libcarla.Waypoint object at 0x7f19fc1114a0>), (<carla.libcarla.Waypoint object at 0x7f19fc111510>, <carla.libcarla.Waypoint object at 0x7f19fc111580>), (<carla.libcarla.Waypoint object at 0x7f19fc1115f0>, <carla.libcarla.Waypoint object at 0x7f19fc111660>), (<carla.libcarla.Waypoint object at 0x7f19fc1116d0>, <carla.libcarla.Waypoint object at 0x7f19fc111740>), (<carla.libcarla.Waypoint object at 0x7f19fc1117b0>, <carla.libcarla.Waypoint object at 0x7f19fc111820>), (<carla.libcarla.Waypoint object at 0x7f19fc111890>, <carla.libcarla.Waypoint object at 0x7f19fc111900>), (<carla.libcarla.Waypoint object at 0x7f19fc111970>, <carla.libcarla.Waypoint object at 0x7f19fc1119e0>), (<carla.libcarla.Waypoint object at 0x7f19fc111a50>, <carla.libcarla.Waypoint object at 0x7f19fc111ac0>), (<carla.libcarla.Waypoint object at 0x7f19fc111b30>, <carla.libcarla.Waypoint object at 0x7f19fc111ba0>), (<carla.libcarla.Waypoint object at 0x7f19fc111c10>, <carla.libcarla.Waypoint object at 0x7f19fc111c80>), (<carla.libcarla.Waypoint object at 0x7f19fc111cf0>, <carla.libcarla.Waypoint object at 0x7f19fc111d60>), (<carla.libcarla.Waypoint object at 0x7f19fc111dd0>, <carla.libcarla.Waypoint object at 0x7f19fc111e40>), (<carla.libcarla.Waypoint object at 0x7f19fc111eb0>, <carla.libcarla.Waypoint object at 0x7f19fc111f20>), (<carla.libcarla.Waypoint object at 0x7f19fc111f90>, <carla.libcarla.Waypoint object at 0x7f19fc112040>), (<carla.libcarla.Waypoint object at 0x7f19fc1120b0>, <carla.libcarla.Waypoint object at 0x7f19fc112120>), (<carla.libcarla.Waypoint object at 0x7f19fc112190>, <carla.libcarla.Waypoint object at 0x7f19fc112200>), (<carla.libcarla.Waypoint object at 0x7f19fc112270>, <carla.libcarla.Waypoint object at 0x7f19fc1122e0>), (<carla.libcarla.Waypoint object at 0x7f19fc112350>, <carla.libcarla.Waypoint object at 0x7f19fc1123c0>), (<carla.libcarla.Waypoint object at 0x7f19fc112430>, <carla.libcarla.Waypoint object at 0x7f19fc1124a0>), (<carla.libcarla.Waypoint object at 0x7f19fc112510>, <carla.libcarla.Waypoint object at 0x7f19fc112580>), (<carla.libcarla.Waypoint object at 0x7f19fc1125f0>, <carla.libcarla.Waypoint object at 0x7f19fc112660>), (<carla.libcarla.Waypoint object at 0x7f19fc1126d0>, <carla.libcarla.Waypoint object at 0x7f19fc112740>), (<carla.libcarla.Waypoint object at 0x7f19fc1127b0>, <carla.libcarla.Waypoint object at 0x7f19fc112820>), (<carla.libcarla.Waypoint object at 0x7f19fc112890>, <carla.libcarla.Waypoint object at 0x7f19fc112900>), (<carla.libcarla.Waypoint object at 0x7f19fc112970>, <carla.libcarla.Waypoint object at 0x7f19fc1129e0>), (<carla.libcarla.Waypoint object at 0x7f19fc112a50>, <carla.libcarla.Waypoint object at 0x7f19fc112ac0>), (<carla.libcarla.Waypoint object at 0x7f19fc112b30>, <carla.libcarla.Waypoint object at 0x7f19fc112ba0>), (<carla.libcarla.Waypoint object at 0x7f19fc112c10>, <carla.libcarla.Waypoint object at 0x7f19fc112c80>), (<carla.libcarla.Waypoint object at 0x7f19fc112cf0>, <carla.libcarla.Waypoint object at 0x7f19fc112d60>), (<carla.libcarla.Waypoint object at 0x7f19fc112dd0>, <carla.libcarla.Waypoint object at 0x7f19fc112e40>), (<carla.libcarla.Waypoint object at 0x7f19fc112eb0>, <carla.libcarla.Waypoint object at 0x7f19fc112f20>), (<carla.libcarla.Waypoint object at 0x7f19fc112f90>, <carla.libcarla.Waypoint object at 0x7f19fc113040>), (<carla.libcarla.Waypoint object at 0x7f19fc1130b0>, <carla.libcarla.Waypoint object at 0x7f19fc113120>), (<carla.libcarla.Waypoint object at 0x7f19fc113190>, <carla.libcarla.Waypoint object at 0x7f19fc113200>), (<carla.libcarla.Waypoint object at 0x7f19fc113270>, <carla.libcarla.Waypoint object at 0x7f19fc1132e0>), (<carla.libcarla.Waypoint object at 0x7f19fc113350>, <carla.libcarla.Waypoint object at 0x7f19fc1133c0>), (<carla.libcarla.Waypoint object at 0x7f19fc113430>, <carla.libcarla.Waypoint object at 0x7f19fc1134a0>), (<carla.libcarla.Waypoint object at 0x7f19fc113510>, <carla.libcarla.Waypoint object at 0x7f19fc113580>), (<carla.libcarla.Waypoint object at 0x7f19fc1135f0>, <carla.libcarla.Waypoint object at 0x7f19fc113660>), (<carla.libcarla.Waypoint object at 0x7f19fc1136d0>, <carla.libcarla.Waypoint object at 0x7f19fc113740>), (<carla.libcarla.Waypoint object at 0x7f19fc1137b0>, <carla.libcarla.Waypoint object at 0x7f19fc113820>), (<carla.libcarla.Waypoint object at 0x7f19fc113890>, <carla.libcarla.Waypoint object at 0x7f19fc113900>), (<carla.libcarla.Waypoint object at 0x7f19fc113970>, <carla.libcarla.Waypoint object at 0x7f19fc1139e0>), (<carla.libcarla.Waypoint object at 0x7f19fc113a50>, <carla.libcarla.Waypoint object at 0x7f19fc113ac0>), (<carla.libcarla.Waypoint object at 0x7f19fc113b30>, <carla.libcarla.Waypoint object at 0x7f19fc113ba0>), (<carla.libcarla.Waypoint object at 0x7f19fc113c10>, <carla.libcarla.Waypoint object at 0x7f19fc113c80>), (<carla.libcarla.Waypoint object at 0x7f19fc113cf0>, <carla.libcarla.Waypoint object at 0x7f19fc113d60>), (<carla.libcarla.Waypoint object at 0x7f19fc113dd0>, <carla.libcarla.Waypoint object at 0x7f19fc113e40>), (<carla.libcarla.Waypoint object at 0x7f19fc113eb0>, <carla.libcarla.Waypoint object at 0x7f19fc113f20>), (<carla.libcarla.Waypoint object at 0x7f19fc113f90>, <carla.libcarla.Waypoint object at 0x7f19fc114040>), (<carla.libcarla.Waypoint object at 0x7f19fc1140b0>, <carla.libcarla.Waypoint object at 0x7f19fc114120>), (<carla.libcarla.Waypoint object at 0x7f19fc114190>, <carla.libcarla.Waypoint object at 0x7f19fc114200>), (<carla.libcarla.Waypoint object at 0x7f19fc114270>, <carla.libcarla.Waypoint object at 0x7f19fc1142e0>), (<carla.libcarla.Waypoint object at 0x7f19fc114350>, <carla.libcarla.Waypoint object at 0x7f19fc1143c0>), (<carla.libcarla.Waypoint object at 0x7f19fc114430>, <carla.libcarla.Waypoint object at 0x7f19fc1144a0>), (<carla.libcarla.Waypoint object at 0x7f19fc114510>, <carla.libcarla.Waypoint object at 0x7f19fc114580>), (<carla.libcarla.Waypoint object at 0x7f19fc1145f0>, <carla.libcarla.Waypoint object at 0x7f19fc114660>), (<carla.libcarla.Waypoint object at 0x7f19fc1146d0>, <carla.libcarla.Waypoint object at 0x7f19fc114740>), (<carla.libcarla.Waypoint object at 0x7f19fc1147b0>, <carla.libcarla.Waypoint object at 0x7f19fc114820>), (<carla.libcarla.Waypoint object at 0x7f19fc114890>, <carla.libcarla.Waypoint object at 0x7f19fc114900>), (<carla.libcarla.Waypoint object at 0x7f19fc114970>, <carla.libcarla.Waypoint object at 0x7f19fc1149e0>), (<carla.libcarla.Waypoint object at 0x7f19fc114a50>, <carla.libcarla.Waypoint object at 0x7f19fc114ac0>), (<carla.libcarla.Waypoint object at 0x7f19fc114b30>, <carla.libcarla.Waypoint object at 0x7f19fc114ba0>), (<carla.libcarla.Waypoint object at 0x7f19fc114c10>, <carla.libcarla.Waypoint object at 0x7f19fc114c80>), (<carla.libcarla.Waypoint object at 0x7f19fc114cf0>, <carla.libcarla.Waypoint object at 0x7f19fc114d60>), (<carla.libcarla.Waypoint object at 0x7f19fc114dd0>, <carla.libcarla.Waypoint object at 0x7f19fc114e40>), (<carla.libcarla.Waypoint object at 0x7f19fc114eb0>, <carla.libcarla.Waypoint object at 0x7f19fc114f20>), (<carla.libcarla.Waypoint object at 0x7f19fc114f90>, <carla.libcarla.Waypoint object at 0x7f19fc115040>), (<carla.libcarla.Waypoint object at 0x7f19fc1150b0>, <carla.libcarla.Waypoint object at 0x7f19fc115120>), (<carla.libcarla.Waypoint object at 0x7f19fc115190>, <carla.libcarla.Waypoint object at 0x7f19fc115200>), (<carla.libcarla.Waypoint object at 0x7f19fc115270>, <carla.libcarla.Waypoint object at 0x7f19fc1152e0>), (<carla.libcarla.Waypoint object at 0x7f19fc115350>, <carla.libcarla.Waypoint object at 0x7f19fc1153c0>), (<carla.libcarla.Waypoint object at 0x7f19fc115430>, <carla.libcarla.Waypoint object at 0x7f19fc1154a0>), (<carla.libcarla.Waypoint object at 0x7f19fc115510>, <carla.libcarla.Waypoint object at 0x7f19fc115580>), (<carla.libcarla.Waypoint object at 0x7f19fc1155f0>, <carla.libcarla.Waypoint object at 0x7f19fc115660>), (<carla.libcarla.Waypoint object at 0x7f19fc1156d0>, <carla.libcarla.Waypoint object at 0x7f19fc115740>), (<carla.libcarla.Waypoint object at 0x7f19fc1157b0>, <carla.libcarla.Waypoint object at 0x7f19fc115820>), (<carla.libcarla.Waypoint object at 0x7f19fc115890>, <carla.libcarla.Waypoint object at 0x7f19fc115900>), (<carla.libcarla.Waypoint object at 0x7f19fc115970>, <carla.libcarla.Waypoint object at 0x7f19fc1159e0>), (<carla.libcarla.Waypoint object at 0x7f19fc115a50>, <carla.libcarla.Waypoint object at 0x7f19fc115ac0>), (<carla.libcarla.Waypoint object at 0x7f19fc115b30>, <carla.libcarla.Waypoint object at 0x7f19fc115ba0>), (<carla.libcarla.Waypoint object at 0x7f19fc115c10>, <carla.libcarla.Waypoint object at 0x7f19fc115c80>), (<carla.libcarla.Waypoint object at 0x7f19fc115cf0>, <carla.libcarla.Waypoint object at 0x7f19fc115d60>), (<carla.libcarla.Waypoint object at 0x7f19fc115dd0>, <carla.libcarla.Waypoint object at 0x7f19fc115e40>), (<carla.libcarla.Waypoint object at 0x7f19fc115eb0>, <carla.libcarla.Waypoint object at 0x7f19fc115f20>), (<carla.libcarla.Waypoint object at 0x7f19fc115f90>, <carla.libcarla.Waypoint object at 0x7f19fc116040>), (<carla.libcarla.Waypoint object at 0x7f19fc1160b0>, <carla.libcarla.Waypoint object at 0x7f19fc116120>), (<carla.libcarla.Waypoint object at 0x7f19fc116190>, <carla.libcarla.Waypoint object at 0x7f19fc116200>), (<carla.libcarla.Waypoint object at 0x7f19fc116270>, <carla.libcarla.Waypoint object at 0x7f19fc1162e0>), (<carla.libcarla.Waypoint object at 0x7f19fc116350>, <carla.libcarla.Waypoint object at 0x7f19fc1163c0>), (<carla.libcarla.Waypoint object at 0x7f19fc116430>, <carla.libcarla.Waypoint object at 0x7f19fc1164a0>), (<carla.libcarla.Waypoint object at 0x7f19fc116510>, <carla.libcarla.Waypoint object at 0x7f19fc116580>), (<carla.libcarla.Waypoint object at 0x7f19fc1165f0>, <carla.libcarla.Waypoint object at 0x7f19fc116660>), (<carla.libcarla.Waypoint object at 0x7f19fc1166d0>, <carla.libcarla.Waypoint object at 0x7f19fc116740>), (<carla.libcarla.Waypoint object at 0x7f19fc1167b0>, <carla.libcarla.Waypoint object at 0x7f19fc116820>), (<carla.libcarla.Waypoint object at 0x7f19fc116890>, <carla.libcarla.Waypoint object at 0x7f19fc116900>), (<carla.libcarla.Waypoint object at 0x7f19fc116970>, <carla.libcarla.Waypoint object at 0x7f19fc1169e0>), (<carla.libcarla.Waypoint object at 0x7f19fc116a50>, <carla.libcarla.Waypoint object at 0x7f19fc116ac0>), (<carla.libcarla.Waypoint object at 0x7f19fc116b30>, <carla.libcarla.Waypoint object at 0x7f19fc116ba0>), (<carla.libcarla.Waypoint object at 0x7f19fc116c10>, <carla.libcarla.Waypoint object at 0x7f19fc116c80>), (<carla.libcarla.Waypoint object at 0x7f19fc116cf0>, <carla.libcarla.Waypoint object at 0x7f19fc116d60>), (<carla.libcarla.Waypoint object at 0x7f19fc116dd0>, <carla.libcarla.Waypoint object at 0x7f19fc116e40>)]\n"
     ]
    }
   ],
   "source": [
    "# topology is pairs of waypoints defining all roads - tuples of those\n",
    "print(roads)\n"
   ]
  },
  {
   "cell_type": "code",
   "execution_count": 25,
   "id": "37b9456f",
   "metadata": {},
   "outputs": [
    {
     "name": "stdout",
     "output_type": "stream",
     "text": [
      "Waypoint(Transform(Location(x=57.445320, y=13.343592, z=0.000000), Rotation(pitch=360.000000, yaw=-179.840790, roll=0.000000)))\n"
     ]
    }
   ],
   "source": [
    "#have a look at a waypoint - it is transform wrapped as a waypoint\n",
    "print(roads[4][0])\n"
   ]
  },
  {
   "cell_type": "code",
   "execution_count": 26,
   "id": "778cfe38",
   "metadata": {},
   "outputs": [
    {
     "data": {
      "text/plain": [
       "200"
      ]
     },
     "execution_count": 26,
     "metadata": {},
     "output_type": "execute_result"
    }
   ],
   "source": [
    "len(roads)"
   ]
  },
  {
   "cell_type": "code",
   "execution_count": 44,
   "id": "9e8cf8ce",
   "metadata": {},
   "outputs": [
    {
     "name": "stdout",
     "output_type": "stream",
     "text": [
      "Defaulting to user installation because normal site-packages is not writeable\n",
      "Collecting networkx\n",
      "  Downloading networkx-3.1-py3-none-any.whl (2.1 MB)\n",
      "\u001b[2K     \u001b[38;2;114;156;31m━━━━━━━━━━━━━━━━━━━━━━━━━━━━━━━━━━━━━━━━\u001b[0m \u001b[32m2.1/2.1 MB\u001b[0m \u001b[31m2.6 MB/s\u001b[0m eta \u001b[36m0:00:00\u001b[0mm eta \u001b[36m0:00:01\u001b[0m[36m0:00:01\u001b[0m\n",
      "\u001b[?25h\u001b[33mDEPRECATION: distro-info 0.23ubuntu1 has a non-standard version number. pip 24.0 will enforce this behaviour change. A possible replacement is to upgrade to a newer version of distro-info or contact the author to suggest that they release a version with a conforming version number. Discussion can be found at https://github.com/pypa/pip/issues/12063\u001b[0m\u001b[33m\n",
      "\u001b[0m\u001b[33mDEPRECATION: python-debian 0.1.36ubuntu1 has a non-standard version number. pip 24.0 will enforce this behaviour change. A possible replacement is to upgrade to a newer version of python-debian or contact the author to suggest that they release a version with a conforming version number. Discussion can be found at https://github.com/pypa/pip/issues/12063\u001b[0m\u001b[33m\n",
      "\u001b[0mInstalling collected packages: networkx\n",
      "Successfully installed networkx-3.1\n"
     ]
    }
   ],
   "source": [
    "# making a route\n",
    "#from one position to another\n",
    "#pos 1: Transform(Location(x=50.477512, y=141.135620, z=0.001844), Rotation(pitch=0.000007, yaw=0.318098, roll=0.000000))\n",
    "#pos 2: Transform(Location(x=-64.644844, y=24.471010, z=0.600000), Rotation(pitch=0.000000, yaw=0.159198, roll=0.000000))\n",
    "!pip3 install networkx"
   ]
  },
  {
   "cell_type": "code",
   "execution_count": 47,
   "id": "9d789284",
   "metadata": {},
   "outputs": [],
   "source": [
    "# import some code coming with the sim\n",
    "import sys\n",
    "sys.path.append('/home/youmad55/Downloads/CARLA_0.9.15/PythonAPI/carla')\n",
    "from global_route_planner import GlobalRoutePlanner"
   ]
  },
  {
   "cell_type": "code",
   "execution_count": 43,
   "id": "baefb365",
   "metadata": {},
   "outputs": [
    {
     "name": "stdout",
     "output_type": "stream",
     "text": [
      "['/home/youmad55/Downloads',\n",
      " '',\n",
      " '/opt/ros/noetic/lib/python3/dist-packages',\n",
      " '/usr/lib/python38.zip',\n",
      " '/usr/lib/python3.8',\n",
      " '/usr/lib/python3.8/lib-dynload',\n",
      " '/home/youmad55/.local/lib/python3.8/site-packages',\n",
      " '/usr/local/lib/python3.8/dist-packages',\n",
      " '/usr/lib/python3/dist-packages',\n",
      " 'C:/CARLA_0.9.14/PythonAPI/carla',\n",
      " '/CARLA_0.9.14/PythonAPI/carla',\n",
      " 'home/youmad55/Download/CARLA_0.9.14/PythonAPI/carla',\n",
      " 'youmad55/Download/CARLA_0.9.14/PythonAPI/carla',\n",
      " 'Download/CARLA_0.9.14/PythonAPI/carla',\n",
      " '/CARLA_0.9.14/PythonAPI/carla',\n",
      " 'CARLA_0.9.14/PythonAPI/carla',\n",
      " '/home/youmad55/Download/CARLA_0.9.14/PythonAPI/carla',\n",
      " 'home/youmad55/Download/CARLA_0.9.14/PythonAPI/carla/agents/navigation',\n",
      " '/CARLA_0.9.14/PythonAPI/carla/agents/navigation',\n",
      " '/CARLA_0.9.15/PythonAPI/carla/agents/navigation',\n",
      " '/home/youmad55/Download/CARLA_0.9.15/PythonAPI/carla/agents/navigation',\n",
      " '/home/youmad55/Downloads/CARLA_0.9.15/PythonAPI/carla/agents/navigation']\n"
     ]
    }
   ],
   "source": [
    "# using the code to plan the route and then draw it in the simulator\n",
    "#town10hd_map = world.get_map()\n",
    "from pprint import pprint\n",
    "\n",
    "pprint(sys.path)"
   ]
  },
  {
   "cell_type": "code",
   "execution_count": 53,
   "id": "7da2021c",
   "metadata": {},
   "outputs": [],
   "source": [
    "# utility script of destruction\n",
    "\n",
    "for actor in world.get_actors().filter('*vehicle*'):\n",
    "    actor.destroy()\n",
    "for sensor in world.get_actors().filter('*sensor*'):\n",
    "    sensor.destroy()"
   ]
  },
  {
   "cell_type": "code",
   "execution_count": 49,
   "id": "b3327268",
   "metadata": {},
   "outputs": [],
   "source": [
    "# now we define 2 cars\n",
    "truck_bp = world.get_blueprint_library().filter('*firetruck*')\n",
    "mini_bp = world.get_blueprint_library().filter('*cooper_s*')\n",
    "\n",
    "#start first car in alredy defined start point\n",
    "truck = world.try_spawn_actor(truck_bp[0], start_point)"
   ]
  },
  {
   "cell_type": "code",
   "execution_count": 48,
   "id": "294fdfe1",
   "metadata": {},
   "outputs": [],
   "source": [
    "# tweak spectator position to watch the show\n",
    "\n",
    "spectator = world.get_spectator()\n",
    "spawn_points = world.get_map().get_spawn_points()\n",
    "start_point = spawn_points[0]\n",
    "\n",
    "spectator_pos = carla.Transform(start_point.location + carla.Location(x=20,y=10,z=4),\n",
    "                                carla.Rotation(yaw = start_point.rotation.yaw -155))\n",
    "\n",
    "spectator.set_transform(spectator_pos)"
   ]
  },
  {
   "cell_type": "code",
   "execution_count": 51,
   "id": "9dee8be0",
   "metadata": {},
   "outputs": [],
   "source": [
    "\n"
   ]
  },
  {
   "cell_type": "code",
   "execution_count": 50,
   "id": "894d141a",
   "metadata": {},
   "outputs": [],
   "source": [
    "# drop the Mini the sky - watch what happens after\n",
    "\n",
    "#spawn it first somewhere else\n",
    "mini = world.try_spawn_actor(mini_bp[0], spawn_points[10])\n",
    "\n",
    "mini_pos = carla.Transform(start_point.location + carla.Location(x=-4,z=10),\n",
    "                            carla.Rotation(yaw = start_point.rotation.yaw - 0))\n",
    "mini.set_transform(mini_pos)\n"
   ]
  },
  {
   "cell_type": "code",
   "execution_count": 51,
   "id": "4f057b2f",
   "metadata": {},
   "outputs": [],
   "source": [
    "import time\n",
    "for actor in world.get_actors().filter('*vehicle*'):\n",
    "    actor.destroy()\n",
    "for sensor in world.get_actors().filter('*sensor*'):\n",
    "    sensor.destroy()\n",
    "# now we define 2 cars\n",
    "truck_bp = world.get_blueprint_library().filter('*firetruck*')\n",
    "mini_bp = world.get_blueprint_library().filter('*cooper_s*')\n",
    "\n",
    "#start first car in alredy defined start point\n",
    "truck = world.try_spawn_actor(truck_bp[0], start_point)\n",
    "time.sleep(3)\n",
    "\n",
    "vw_bp = world.get_blueprint_library().filter('*volkswagen*')\n",
    "\n",
    "vw = world.try_spawn_actor(vw_bp[0], spawn_points[20])\n",
    "vw_pos = carla.Transform(start_point.location + carla.Location(x=1,z=6),\n",
    "                            carla.Rotation(yaw = start_point.rotation.yaw - 0))\n",
    "vw.set_transform(vw_pos)\n",
    "mini = world.try_spawn_actor(mini_bp[0], spawn_points[10])\n",
    "\n",
    "mini_pos = carla.Transform(start_point.location + carla.Location(x=1,z=10),\n",
    "                            carla.Rotation(yaw = start_point.rotation.yaw - 0))\n",
    "mini.set_transform(mini_pos)\n"
   ]
  },
  {
   "cell_type": "code",
   "execution_count": 9,
   "id": "820993f0",
   "metadata": {},
   "outputs": [],
   "source": [
    "vw_bp = world.get_blueprint_library().filter('*volkswagen*')"
   ]
  },
  {
   "cell_type": "code",
   "execution_count": 52,
   "id": "b97f830c",
   "metadata": {},
   "outputs": [
    {
     "name": "stdout",
     "output_type": "stream",
     "text": [
      "[ActorBlueprint(id=static.trigger.friction,tags=[friction, trigger, static]), ActorBlueprint(id=static.prop.warningaccident,tags=[warningaccident, prop, static]), ActorBlueprint(id=static.prop.doghouse,tags=[doghouse, prop, static]), ActorBlueprint(id=static.prop.travelcase,tags=[travelcase, prop, static]), ActorBlueprint(id=static.prop.trashcan05,tags=[trashcan05, prop, static]), ActorBlueprint(id=static.prop.trashcan02,tags=[trashcan02, prop, static]), ActorBlueprint(id=static.prop.trashcan01,tags=[trashcan01, prop, static]), ActorBlueprint(id=static.prop.trashbag,tags=[trashbag, prop, static]), ActorBlueprint(id=static.prop.calibrator,tags=[calibrator, prop, static]), ActorBlueprint(id=static.prop.trafficwarning,tags=[trafficwarning, prop, static]), ActorBlueprint(id=static.prop.trafficcone01,tags=[trafficcone01, prop, static]), ActorBlueprint(id=static.prop.table,tags=[table, prop, static]), ActorBlueprint(id=static.prop.streetfountain,tags=[streetfountain, prop, static]), ActorBlueprint(id=static.prop.streetsign04,tags=[streetsign04, prop, static]), ActorBlueprint(id=static.prop.streetsign,tags=[streetsign, prop, static]), ActorBlueprint(id=static.prop.shoppingtrolley,tags=[shoppingtrolley, prop, static]), ActorBlueprint(id=static.prop.shoppingbag,tags=[shoppingbag, prop, static]), ActorBlueprint(id=static.prop.shoppingcart,tags=[shoppingcart, prop, static]), ActorBlueprint(id=static.prop.purse,tags=[prop, purse, static]), ActorBlueprint(id=static.prop.plastictable,tags=[plastictable, prop, static]), ActorBlueprint(id=static.prop.plantpot07,tags=[plantpot07, prop, static]), ActorBlueprint(id=static.prop.plantpot05,tags=[plantpot05, prop, static]), ActorBlueprint(id=static.prop.plantpot04,tags=[prop, plantpot04, static]), ActorBlueprint(id=static.prop.plantpot03,tags=[plantpot03, prop, static]), ActorBlueprint(id=static.prop.mobile,tags=[prop, mobile, static]), ActorBlueprint(id=static.prop.kiosk_01,tags=[kiosk_01, prop, static]), ActorBlueprint(id=static.prop.ironplank,tags=[ironplank, prop, static]), ActorBlueprint(id=static.prop.advertisement,tags=[advertisement, prop, static]), ActorBlueprint(id=static.prop.gnome,tags=[prop, gnome, static]), ActorBlueprint(id=static.prop.gardenlamp,tags=[gardenlamp, prop, static]), ActorBlueprint(id=static.prop.dirtdebris01,tags=[dirtdebris01, prop, static]), ActorBlueprint(id=static.prop.haybale,tags=[haybale, prop, static]), ActorBlueprint(id=static.prop.creasedbox01,tags=[prop, creasedbox01, static]), ActorBlueprint(id=static.prop.container,tags=[container, prop, static]), ActorBlueprint(id=static.prop.colacan,tags=[colacan, prop, static]), ActorBlueprint(id=static.prop.motorhelmet,tags=[prop, motorhelmet, static]), ActorBlueprint(id=static.prop.clothesline,tags=[clothesline, prop, static]), ActorBlueprint(id=static.prop.foodcart,tags=[foodcart, prop, static]), ActorBlueprint(id=static.prop.slide,tags=[slide, prop, static]), ActorBlueprint(id=static.prop.plasticbag,tags=[plasticbag, prop, static]), ActorBlueprint(id=static.prop.clothcontainer,tags=[clothcontainer, prop, static]), ActorBlueprint(id=static.prop.dirtdebris02,tags=[dirtdebris02, prop, static]), ActorBlueprint(id=static.prop.chainbarrier,tags=[prop, chainbarrier, static]), ActorBlueprint(id=static.prop.creasedbox03,tags=[creasedbox03, prop, static]), ActorBlueprint(id=static.prop.vendingmachine,tags=[vendingmachine, prop, static]), ActorBlueprint(id=static.prop.mesh,tags=[mesh, prop, static]), ActorBlueprint(id=static.prop.brokentile04,tags=[brokentile04, prop, static]), ActorBlueprint(id=static.prop.brokentile03,tags=[brokentile03, prop, static]), ActorBlueprint(id=static.prop.brokentile02,tags=[brokentile02, prop, static]), ActorBlueprint(id=static.prop.brokentile01,tags=[brokentile01, prop, static]), ActorBlueprint(id=static.prop.plantpot02,tags=[plantpot02, prop, static]), ActorBlueprint(id=static.prop.briefcase,tags=[briefcase, prop, static]), ActorBlueprint(id=static.prop.box01,tags=[box01, prop, static]), ActorBlueprint(id=static.prop.bike helmet,tags=[bike helmet, prop, static]), ActorBlueprint(id=static.prop.bench03,tags=[bench03, prop, static]), ActorBlueprint(id=static.prop.bench02,tags=[bench02, prop, static]), ActorBlueprint(id=static.prop.trashcan04,tags=[trashcan04, prop, static]), ActorBlueprint(id=static.prop.platformgarbage01,tags=[platformgarbage01, prop, static]), ActorBlueprint(id=static.prop.bench01,tags=[bench01, prop, static]), ActorBlueprint(id=static.prop.busstoplb,tags=[busstoplb, prop, static]), ActorBlueprint(id=static.prop.fountain,tags=[fountain, prop, static]), ActorBlueprint(id=static.prop.constructioncone,tags=[constructioncone, prop, static]), ActorBlueprint(id=static.prop.bin,tags=[bin, prop, static]), ActorBlueprint(id=walker.pedestrian.0051,tags=[0051, pedestrian, walker]), ActorBlueprint(id=walker.pedestrian.0050,tags=[0050, pedestrian, walker]), ActorBlueprint(id=walker.pedestrian.0049,tags=[0049, pedestrian, walker]), ActorBlueprint(id=walker.pedestrian.0048,tags=[0048, pedestrian, walker]), ActorBlueprint(id=walker.pedestrian.0047,tags=[pedestrian, 0047, walker]), ActorBlueprint(id=walker.pedestrian.0046,tags=[0046, pedestrian, walker]), ActorBlueprint(id=static.prop.mailbox,tags=[mailbox, prop, static]), ActorBlueprint(id=walker.pedestrian.0044,tags=[0044, pedestrian, walker]), ActorBlueprint(id=walker.pedestrian.0043,tags=[0043, pedestrian, walker]), ActorBlueprint(id=walker.pedestrian.0042,tags=[0042, pedestrian, walker]), ActorBlueprint(id=static.prop.garbage03,tags=[garbage03, prop, static]), ActorBlueprint(id=walker.pedestrian.0041,tags=[0041, pedestrian, walker]), ActorBlueprint(id=walker.pedestrian.0040,tags=[0040, pedestrian, walker]), ActorBlueprint(id=walker.pedestrian.0039,tags=[0039, pedestrian, walker]), ActorBlueprint(id=static.prop.wateringcan,tags=[wateringcan, prop, static]), ActorBlueprint(id=walker.pedestrian.0038,tags=[0038, pedestrian, walker]), ActorBlueprint(id=walker.pedestrian.0034,tags=[0034, pedestrian, walker]), ActorBlueprint(id=static.prop.pergola,tags=[pergola, prop, static]), ActorBlueprint(id=walker.pedestrian.0033,tags=[0033, pedestrian, walker]), ActorBlueprint(id=static.prop.trashcan03,tags=[trashcan03, prop, static]), ActorBlueprint(id=walker.pedestrian.0032,tags=[0032, pedestrian, walker]), ActorBlueprint(id=static.prop.streetsign01,tags=[streetsign01, prop, static]), ActorBlueprint(id=static.prop.garbage05,tags=[garbage05, prop, static]), ActorBlueprint(id=walker.pedestrian.0036,tags=[0036, pedestrian, walker]), ActorBlueprint(id=walker.pedestrian.0031,tags=[0031, pedestrian, walker]), ActorBlueprint(id=walker.pedestrian.0030,tags=[0030, pedestrian, walker]), ActorBlueprint(id=walker.pedestrian.0029,tags=[0029, pedestrian, walker]), ActorBlueprint(id=static.prop.garbage01,tags=[garbage01, prop, static]), ActorBlueprint(id=walker.pedestrian.0028,tags=[pedestrian, 0028, walker]), ActorBlueprint(id=static.prop.busstop,tags=[busstop, prop, static]), ActorBlueprint(id=walker.pedestrian.0025,tags=[0025, pedestrian, walker]), ActorBlueprint(id=walker.pedestrian.0024,tags=[pedestrian, 0024, walker]), ActorBlueprint(id=static.prop.plantpot06,tags=[prop, plantpot06, static]), ActorBlueprint(id=static.prop.garbage02,tags=[garbage02, prop, static]), ActorBlueprint(id=static.prop.barrel,tags=[barrel, prop, static]), ActorBlueprint(id=walker.pedestrian.0023,tags=[0023, pedestrian, walker]), ActorBlueprint(id=walker.pedestrian.0022,tags=[0022, pedestrian, walker]), ActorBlueprint(id=walker.pedestrian.0021,tags=[0021, pedestrian, walker]), ActorBlueprint(id=walker.pedestrian.0020,tags=[0020, pedestrian, walker]), ActorBlueprint(id=util.actor.empty,tags=[empty, actor, util]), ActorBlueprint(id=static.prop.trafficcone02,tags=[trafficcone02, prop, static]), ActorBlueprint(id=walker.pedestrian.0019,tags=[0019, pedestrian, walker]), ActorBlueprint(id=walker.pedestrian.0018,tags=[0018, pedestrian, walker]), ActorBlueprint(id=walker.pedestrian.0017,tags=[0017, pedestrian, walker]), ActorBlueprint(id=walker.pedestrian.0016,tags=[0016, pedestrian, walker]), ActorBlueprint(id=walker.pedestrian.0015,tags=[0015, pedestrian, walker]), ActorBlueprint(id=walker.pedestrian.0014,tags=[0014, pedestrian, walker]), ActorBlueprint(id=walker.pedestrian.0012,tags=[0012, pedestrian, walker]), ActorBlueprint(id=walker.pedestrian.0010,tags=[0010, pedestrian, walker]), ActorBlueprint(id=walker.pedestrian.0009,tags=[0009, pedestrian, walker]), ActorBlueprint(id=walker.pedestrian.0007,tags=[0007, pedestrian, walker]), ActorBlueprint(id=walker.pedestrian.0005,tags=[0005, pedestrian, walker]), ActorBlueprint(id=controller.ai.walker,tags=[walker, ai, controller]), ActorBlueprint(id=walker.pedestrian.0004,tags=[0004, pedestrian, walker]), ActorBlueprint(id=static.prop.warningconstruction,tags=[warningconstruction, prop, static]), ActorBlueprint(id=static.prop.dirtdebris03,tags=[dirtdebris03, prop, static]), ActorBlueprint(id=walker.pedestrian.0003,tags=[0003, pedestrian, walker]), ActorBlueprint(id=static.prop.garbage06,tags=[garbage06, prop, static]), ActorBlueprint(id=walker.pedestrian.0002,tags=[0002, pedestrian, walker]), ActorBlueprint(id=static.prop.swing,tags=[swing, prop, static]), ActorBlueprint(id=walker.pedestrian.0001,tags=[0001, pedestrian, walker]), ActorBlueprint(id=sensor.camera.instance_segmentation,tags=[instance_segmentation, camera, sensor]), ActorBlueprint(id=static.prop.box03,tags=[box03, prop, static]), ActorBlueprint(id=walker.pedestrian.0037,tags=[0037, pedestrian, walker]), ActorBlueprint(id=sensor.camera.semantic_segmentation,tags=[semantic_segmentation, camera, sensor]), ActorBlueprint(id=sensor.camera.rgb,tags=[rgb, camera, sensor]), ActorBlueprint(id=sensor.other.rss,tags=[rss, other, sensor]), ActorBlueprint(id=sensor.lidar.ray_cast,tags=[ray_cast, lidar, sensor]), ActorBlueprint(id=static.prop.plantpot01,tags=[plantpot01, prop, static]), ActorBlueprint(id=sensor.lidar.ray_cast_semantic,tags=[ray_cast_semantic, lidar, sensor]), ActorBlueprint(id=walker.pedestrian.0011,tags=[0011, pedestrian, walker]), ActorBlueprint(id=sensor.other.radar,tags=[radar, other, sensor]), ActorBlueprint(id=static.prop.glasscontainer,tags=[glasscontainer, prop, static]), ActorBlueprint(id=static.prop.creasedbox02,tags=[creasedbox02, prop, static]), ActorBlueprint(id=sensor.camera.optical_flow,tags=[optical_flow, camera, sensor]), ActorBlueprint(id=sensor.other.obstacle,tags=[obstacle, other, sensor]), ActorBlueprint(id=sensor.other.imu,tags=[other, imu, sensor]), ActorBlueprint(id=sensor.other.gnss,tags=[gnss, other, sensor]), ActorBlueprint(id=static.prop.chainbarrierend,tags=[chainbarrierend, prop, static]), ActorBlueprint(id=sensor.camera.dvs,tags=[dvs, camera, sensor]), ActorBlueprint(id=sensor.camera.normals,tags=[normals, camera, sensor]), ActorBlueprint(id=sensor.camera.depth,tags=[depth, camera, sensor]), ActorBlueprint(id=static.prop.trampoline,tags=[trampoline, prop, static]), ActorBlueprint(id=static.prop.guitarcase,tags=[guitarcase, prop, static]), ActorBlueprint(id=sensor.other.collision,tags=[collision, other, sensor]), ActorBlueprint(id=walker.pedestrian.0026,tags=[pedestrian, 0026, walker]), ActorBlueprint(id=vehicle.carlamotors.european_hgv,tags=[european_hgv, carlamotors, vehicle]), ActorBlueprint(id=static.prop.atm,tags=[prop, atm, static]), ActorBlueprint(id=vehicle.mitsubishi.fusorosa,tags=[fusorosa, mitsubishi, vehicle]), ActorBlueprint(id=vehicle.volkswagen.t2_2021,tags=[t2_2021, volkswagen, vehicle]), ActorBlueprint(id=vehicle.ford.crown,tags=[crown, ford, vehicle]), ActorBlueprint(id=vehicle.mercedes.sprinter,tags=[sprinter, mercedes, vehicle]), ActorBlueprint(id=static.prop.swingcouch,tags=[swingcouch, prop, static]), ActorBlueprint(id=static.prop.box02,tags=[box02, prop, static]), ActorBlueprint(id=vehicle.nissan.patrol_2021,tags=[nissan, patrol_2021, vehicle]), ActorBlueprint(id=vehicle.mini.cooper_s_2021,tags=[mini, cooper_s_2021, vehicle]), ActorBlueprint(id=static.prop.maptable,tags=[maptable, prop, static]), ActorBlueprint(id=vehicle.vespa.zx125,tags=[zx125, vespa, vehicle]), ActorBlueprint(id=static.prop.garbage04,tags=[garbage04, prop, static]), ActorBlueprint(id=walker.pedestrian.0035,tags=[0035, pedestrian, walker]), ActorBlueprint(id=vehicle.carlamotors.firetruck,tags=[carlamotors, firetruck, vehicle]), ActorBlueprint(id=walker.pedestrian.0006,tags=[pedestrian, 0006, walker]), ActorBlueprint(id=vehicle.ford.ambulance,tags=[ambulance, ford, vehicle]), ActorBlueprint(id=vehicle.dodge.charger_2020,tags=[charger_2020, dodge, vehicle]), ActorBlueprint(id=vehicle.mercedes.coupe_2020,tags=[coupe_2020, mercedes, vehicle]), ActorBlueprint(id=vehicle.lincoln.mkz_2020,tags=[mkz_2020, lincoln, vehicle]), ActorBlueprint(id=vehicle.ford.mustang,tags=[mustang, ford, vehicle]), ActorBlueprint(id=vehicle.lincoln.mkz_2017,tags=[mkz_2017, lincoln, vehicle]), ActorBlueprint(id=walker.pedestrian.0008,tags=[0008, pedestrian, walker]), ActorBlueprint(id=vehicle.volkswagen.t2,tags=[volkswagen, t2, vehicle]), ActorBlueprint(id=walker.pedestrian.0027,tags=[0027, pedestrian, walker]), ActorBlueprint(id=vehicle.tesla.model3,tags=[tesla, model3, vehicle]), ActorBlueprint(id=static.prop.streetbarrier,tags=[streetbarrier, prop, static]), ActorBlueprint(id=static.prop.plantpot08,tags=[plantpot08, prop, static]), ActorBlueprint(id=vehicle.tesla.cybertruck,tags=[cybertruck, tesla, vehicle]), ActorBlueprint(id=vehicle.audi.etron,tags=[etron, audi, vehicle]), ActorBlueprint(id=vehicle.diamondback.century,tags=[century, diamondback, vehicle]), ActorBlueprint(id=vehicle.gazelle.omafiets,tags=[omafiets, gazelle, vehicle]), ActorBlueprint(id=vehicle.bh.crossbike,tags=[crossbike, bh, vehicle]), ActorBlueprint(id=walker.pedestrian.0045,tags=[0045, pedestrian, walker]), ActorBlueprint(id=vehicle.kawasaki.ninja,tags=[ninja, kawasaki, vehicle]), ActorBlueprint(id=vehicle.harley-davidson.low_rider,tags=[low_rider, harley-davidson, vehicle]), ActorBlueprint(id=vehicle.toyota.prius,tags=[prius, toyota, vehicle]), ActorBlueprint(id=vehicle.seat.leon,tags=[leon, seat, vehicle]), ActorBlueprint(id=vehicle.nissan.patrol,tags=[patrol, nissan, vehicle]), ActorBlueprint(id=static.prop.plasticchair,tags=[plasticchair, prop, static]), ActorBlueprint(id=vehicle.nissan.micra,tags=[micra, nissan, vehicle]), ActorBlueprint(id=vehicle.mini.cooper_s,tags=[cooper_s, mini, vehicle]), ActorBlueprint(id=vehicle.yamaha.yzf,tags=[yzf, yamaha, vehicle]), ActorBlueprint(id=vehicle.mercedes.coupe,tags=[coupe, mercedes, vehicle]), ActorBlueprint(id=vehicle.jeep.wrangler_rubicon,tags=[wrangler_rubicon, jeep, vehicle]), ActorBlueprint(id=walker.pedestrian.0013,tags=[0013, pedestrian, walker]), ActorBlueprint(id=vehicle.dodge.charger_police,tags=[charger_police, dodge, vehicle]), ActorBlueprint(id=static.prop.barbeque,tags=[barbeque, prop, static]), ActorBlueprint(id=vehicle.dodge.charger_police_2020,tags=[charger_police_2020, dodge, vehicle]), ActorBlueprint(id=vehicle.chevrolet.impala,tags=[impala, chevrolet, vehicle]), ActorBlueprint(id=vehicle.carlamotors.carlacola,tags=[carlacola, carlamotors, vehicle]), ActorBlueprint(id=static.prop.haybalelb,tags=[haybalelb, prop, static]), ActorBlueprint(id=vehicle.micro.microlino,tags=[microlino, micro, vehicle]), ActorBlueprint(id=vehicle.bmw.grandtourer,tags=[grandtourer, bmw, vehicle]), ActorBlueprint(id=vehicle.citroen.c3,tags=[c3, citroen, vehicle]), ActorBlueprint(id=vehicle.audi.tt,tags=[tt, audi, vehicle]), ActorBlueprint(id=sensor.other.lane_invasion,tags=[lane_invasion, other, sensor]), ActorBlueprint(id=vehicle.audi.a2,tags=[a2, audi, vehicle])]\n"
     ]
    }
   ],
   "source": [
    "vehicle_all = world.get_blueprint_library()\n",
    "print(vehicle_all)"
   ]
  },
  {
   "cell_type": "code",
   "execution_count": null,
   "id": "59ca3de0",
   "metadata": {},
   "outputs": [],
   "source": []
  }
 ],
 "metadata": {
  "kernelspec": {
   "display_name": "Python 3 (ipykernel)",
   "language": "python",
   "name": "python3"
  },
  "language_info": {
   "codemirror_mode": {
    "name": "ipython",
    "version": 3
   },
   "file_extension": ".py",
   "mimetype": "text/x-python",
   "name": "python",
   "nbconvert_exporter": "python",
   "pygments_lexer": "ipython3",
   "version": "3.8.10"
  }
 },
 "nbformat": 4,
 "nbformat_minor": 5
}
