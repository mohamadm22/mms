{
 "cells": [
  {
   "cell_type": "code",
   "execution_count": 2,
   "id": "3512406e-3a03-4396-a9d8-e86e541361cc",
   "metadata": {},
   "outputs": [
    {
     "name": "stdout",
     "output_type": "stream",
     "text": [
      "<class 'map'>\n"
     ]
    }
   ],
   "source": [
    "import carla #the sim library itself\n",
    "\n",
    "# connect to the sim \n",
    "#client = carla.Client('localhost', 2000)\n",
    "world = client.get_world()\n",
    "world = client.load_world('Town02')\n",
    "map=world.get_map()\n",
    "print(map)"
   ]
  },
  {
   "cell_type": "code",
   "execution_count": 18,
   "id": "fe3d15e4-aee6-4ff7-9759-cf01ed24f570",
   "metadata": {},
   "outputs": [],
   "source": [
    "map=world.get_map()\n",
    "waypoint_list = map.generate_waypoints(1.0)\n",
    "for waypoint in waypoint_list:\n",
    "    world.debug.draw_string(waypoint.transform.location, '^', draw_shadow=False,\n",
    "        color=carla.Color(r=0, g=255, b=0), life_time=60.0,\n",
    "        persistent_lines=True)"
   ]
  },
  {
   "cell_type": "code",
   "execution_count": 12,
   "id": "edb62ba5-c177-4cf7-bed7-dbf19bb3cf7a",
   "metadata": {},
   "outputs": [
    {
     "name": "stdout",
     "output_type": "stream",
     "text": [
      "2.0\n"
     ]
    }
   ],
   "source": [
    "a=carla.Location(x=-8,y=140,z=0)\n",
    "a=carla.Location(x=100,y=103,z=0)\n",
    "a=carla.Location(x=193,y=125,z=0)\n",
    "a=carla.Location(x=193,y=200,z=0)\n",
    "s=carla.Location(x=193,y=230,z=0)\n",
    "a=carla.Location(x=165,y=235,z=0)\n",
    "a=carla.Location(x=80,y=239,z=0)\n",
    "a=carla.Location(x=135,y=210,z=0)\n",
    "a=carla.Location(x=40,y=210,z=0)\n",
    "a=carla.Location(x=40,y=290,z=0)\n",
    "a=carla.Location(x=20,y=190,z=0)\n",
    "a=carla.Location(x=95,y=305,z=0)\n",
    "a=carla.Location(x=2,y=300,z=0)\n",
    "print(a.x)"
   ]
  },
  {
   "cell_type": "code",
   "execution_count": 147,
   "id": "d7c2a429-3d61-4633-9907-84ae90bbe2c3",
   "metadata": {},
   "outputs": [],
   "source": [
    "world.debug.draw_string(a, '*', draw_shadow=False,\n",
    "                    color=carla.Color(r=0, g=0, b=255), life_time=120.0,\n",
    "                    persistent_lines=True)"
   ]
  },
  {
   "cell_type": "code",
   "execution_count": 20,
   "id": "ceac43fc-1f45-4eac-8e83-da64ddff06a0",
   "metadata": {},
   "outputs": [],
   "source": [
    "wa_start=map.get_waypoint(a)"
   ]
  },
  {
   "cell_type": "code",
   "execution_count": 21,
   "id": "0efa2914-a5b5-4a8b-a29f-ddce3219c63c",
   "metadata": {},
   "outputs": [
    {
     "name": "stdout",
     "output_type": "stream",
     "text": [
      "Waypoint(Transform(Location(x=-3.410461, y=140.007385, z=0.000000), Rotation(pitch=0.000000, yaw=-89.871178, roll=0.000000)))\n"
     ]
    }
   ],
   "source": [
    "print(wa_start)"
   ]
  },
  {
   "cell_type": "code",
   "execution_count": 25,
   "id": "f045e78a-43e8-48e9-aa30-722ffe41a06e",
   "metadata": {},
   "outputs": [],
   "source": [
    "world.debug.draw_string(wa_start.transform.location, '^', draw_shadow=False,\n",
    "        color=carla.Color(r=0, g=255, b=0), life_time=60.0,\n",
    "        persistent_lines=True)"
   ]
  },
  {
   "cell_type": "code",
   "execution_count": 6,
   "id": "1e0107c5-b12b-494b-9905-56027a1ae060",
   "metadata": {},
   "outputs": [
    {
     "ename": "NameError",
     "evalue": "name 'wa_start' is not defined",
     "output_type": "error",
     "traceback": [
      "\u001b[0;31m---------------------------------------------------------------------------\u001b[0m",
      "\u001b[0;31mNameError\u001b[0m                                 Traceback (most recent call last)",
      "Cell \u001b[0;32mIn[6], line 1\u001b[0m\n\u001b[0;32m----> 1\u001b[0m ws\u001b[38;5;241m=\u001b[39m\u001b[43mwa_start\u001b[49m\u001b[38;5;241m.\u001b[39mnext_until_lane_end(\u001b[38;5;241m1\u001b[39m)\n\u001b[1;32m      2\u001b[0m \u001b[38;5;28;01mfor\u001b[39;00m w \u001b[38;5;129;01min\u001b[39;00m ws:\n\u001b[1;32m      3\u001b[0m     world\u001b[38;5;241m.\u001b[39mdebug\u001b[38;5;241m.\u001b[39mdraw_string(w\u001b[38;5;241m.\u001b[39mtransform\u001b[38;5;241m.\u001b[39mlocation, \u001b[38;5;124m'\u001b[39m\u001b[38;5;124m^\u001b[39m\u001b[38;5;124m'\u001b[39m, draw_shadow\u001b[38;5;241m=\u001b[39m\u001b[38;5;28;01mFalse\u001b[39;00m,\n\u001b[1;32m      4\u001b[0m         color\u001b[38;5;241m=\u001b[39mcarla\u001b[38;5;241m.\u001b[39mColor(r\u001b[38;5;241m=\u001b[39m\u001b[38;5;241m0\u001b[39m, g\u001b[38;5;241m=\u001b[39m\u001b[38;5;241m255\u001b[39m, b\u001b[38;5;241m=\u001b[39m\u001b[38;5;241m0\u001b[39m), life_time\u001b[38;5;241m=\u001b[39m\u001b[38;5;241m60.0\u001b[39m,\n\u001b[1;32m      5\u001b[0m         persistent_lines\u001b[38;5;241m=\u001b[39m\u001b[38;5;28;01mTrue\u001b[39;00m)\n",
      "\u001b[0;31mNameError\u001b[0m: name 'wa_start' is not defined"
     ]
    }
   ],
   "source": [
    "ws=wa_start.next_until_lane_end(1)\n",
    "for w in ws:\n",
    "    world.debug.draw_string(w.transform.location, '^', draw_shadow=False,\n",
    "        color=carla.Color(r=0, g=255, b=0), life_time=60.0,\n",
    "        persistent_lines=True)"
   ]
  },
  {
   "cell_type": "code",
   "execution_count": 14,
   "id": "9efa1369-bb62-4e93-ab22-f916c36fda38",
   "metadata": {},
   "outputs": [
    {
     "ename": "IndexError",
     "evalue": "pop from empty list",
     "output_type": "error",
     "traceback": [
      "\u001b[0;31m---------------------------------------------------------------------------\u001b[0m",
      "\u001b[0;31mIndexError\u001b[0m                                Traceback (most recent call last)",
      "Cell \u001b[0;32mIn[14], line 40\u001b[0m\n\u001b[1;32m     38\u001b[0m                 \u001b[38;5;28;01mif\u001b[39;00m \u001b[38;5;28mlen\u001b[39m(fpath)\u001b[38;5;241m==\u001b[39m\u001b[38;5;28mlen\u001b[39m(points)\u001b[38;5;241m+\u001b[39m\u001b[38;5;241m1\u001b[39m:\n\u001b[1;32m     39\u001b[0m                     \u001b[38;5;28;01mreturn\u001b[39;00m fpath\n\u001b[0;32m---> 40\u001b[0m \u001b[43mastar\u001b[49m\u001b[43m(\u001b[49m\u001b[43m)\u001b[49m\n",
      "Cell \u001b[0;32mIn[14], line 23\u001b[0m, in \u001b[0;36mastar\u001b[0;34m()\u001b[0m\n\u001b[1;32m     21\u001b[0m \u001b[38;5;28mopen\u001b[39m\u001b[38;5;241m.\u001b[39msort()\n\u001b[1;32m     22\u001b[0m \u001b[38;5;28mopen\u001b[39m\u001b[38;5;241m.\u001b[39mreverse()\n\u001b[0;32m---> 23\u001b[0m \u001b[38;5;28mnext\u001b[39m \u001b[38;5;241m=\u001b[39m \u001b[38;5;28;43mopen\u001b[39;49m\u001b[38;5;241;43m.\u001b[39;49m\u001b[43mpop\u001b[49m\u001b[43m(\u001b[49m\u001b[43m)\u001b[49m\n\u001b[1;32m     24\u001b[0m path\u001b[38;5;241m=\u001b[39m\u001b[38;5;28mnext\u001b[39m[\u001b[38;5;241m3\u001b[39m]\u001b[38;5;241m.\u001b[39mcopy()\n\u001b[1;32m     25\u001b[0m \u001b[38;5;28;01mfor\u001b[39;00m i \u001b[38;5;129;01min\u001b[39;00m \u001b[38;5;28mrange\u001b[39m(\u001b[38;5;28mlen\u001b[39m(points)):\n",
      "\u001b[0;31mIndexError\u001b[0m: pop from empty list"
     ]
    }
   ],
   "source": [
    "import sys\n",
    "sys.path.append('/home/youmad55/Downloads/CARLA_0.9.15/PythonAPI/carla')\n",
    "from agents.navigation.global_route_planner import GlobalRoutePlanner\n",
    "grp = GlobalRoutePlanner(world.get_map(), 1)\n",
    "def dist(s,e):\n",
    "    return abs(s[0]-e[0])+abs(s[1]-e[1])\n",
    "def astar():\n",
    "    p=[carla.Location(x=-8,y=140,z=0),carla.Location(x=100,y=103,z=0),carla.Location(x=193,y=125,z=0),carla.Location(x=193,y=200,z=0),carla.Location(x=165,y=235,z=0),carla.Location(x=80,y=239,z=0),carla.Location(x=135,y=210,z=0),carla.Location(x=40,y=210,z=0),carla.Location(x=40,y=290,z=0),carla.Location(x=20,y=190,z=0),carla.Location(x=95,y=305,z=0),carla.Location(x=2,y=300,z=0)]\n",
    "    points=[]\n",
    "    for i in range(len(points)):\n",
    "        points.append([p[i].x,p[i].y])\n",
    "    s=carla.Location(x=193,y=230,z=0)\n",
    "    start=[s.x,s.y]\n",
    "    grp = GlobalRoutePlanner(world.get_map(), 1)\n",
    "    f=0\n",
    "    h=0\n",
    "    g=0\n",
    "    open=[[f,g,h,[start]]]\n",
    "    path=[]\n",
    "    while True:\n",
    "        open.sort()\n",
    "        open.reverse()\n",
    "        next = open.pop()\n",
    "        path=next[3].copy()\n",
    "        for i in range(len(points)):\n",
    "            if points[i] not in path:\n",
    "                g=len(grp.trace_route(carla.Location(x=path[len(path)-1][0],y=path[len(path)-1][1],z=0), carla.Location(x=points[i][0]),y=points[i][1]),z=0)+next[1]\n",
    "                h=0\n",
    "                fpath=path.copy()\n",
    "                fpath.append(points[i])\n",
    "                for j in range(len(points)):\n",
    "                    if points[j]not in fpath:\n",
    "                        hj=dist([points[j].x,points[j].y],[points[i].x,points[i].y])\n",
    "                        if hj>h:\n",
    "                            h=hj\n",
    "                f=h+g\n",
    "                open.append([f,g,h,fpath])\n",
    "                if len(fpath)==len(points)+1:\n",
    "                    return fpath\n",
    "astar()"
   ]
  },
  {
   "cell_type": "code",
   "execution_count": 5,
   "id": "61c1246b-5516-494c-8473-61b5be741c99",
   "metadata": {},
   "outputs": [],
   "source": [
    "a=[carla.Location(x=-8,y=140,z=0),carla.Location(x=100,y=103,z=0),carla.Location(x=193,y=125,z=0),carla.Location(x=193,y=200,z=0),carla.Location(x=165,y=235,z=0),carla.Location(x=80,y=239,z=0),carla.Location(x=135,y=210,z=0),carla.Location(x=40,y=210,z=0),carla.Location(x=40,y=290,z=0),carla.Location(x=20,y=190,z=0),carla.Location(x=95,y=305,z=0),carla.Location(x=2,y=300,z=0)]\n",
    "for w in a:\n",
    "    world.debug.draw_string(w, '#', draw_shadow=False,\n",
    "        color=carla.Color(r=0, g=0, b=255), life_time=60.0,\n",
    "        persistent_lines=True)"
   ]
  },
  {
   "cell_type": "code",
   "execution_count": 20,
   "id": "724758a0-a052-4dee-8411-fe74bf42770d",
   "metadata": {},
   "outputs": [
    {
     "data": {
      "text/plain": [
       "[[193, 230],\n",
       " [193, 200],\n",
       " [193, 125],\n",
       " [100, 103],\n",
       " [-8, 140],\n",
       " [20, 190],\n",
       " [40, 210],\n",
       " [80, 239],\n",
       " [135, 210],\n",
       " [165, 235],\n",
       " [40, 290],\n",
       " [95, 305],\n",
       " [2, 300]]"
      ]
     },
     "execution_count": 20,
     "metadata": {},
     "output_type": "execute_result"
    }
   ],
   "source": [
    "\n",
    "def dist(s,e):\n",
    "    return abs(s[0]-e[0])+abs(s[1]-e[1])\n",
    "def astar():\n",
    "    points=[[-8,140],[100,103],[193,125],[193,200],[165,235],[80,239],[135,210],[40,210],[40,290],[20,190],[95,305],[2,300]]\n",
    "    start=[193,230]\n",
    "\n",
    "    f=0\n",
    "    h=0\n",
    "    g=0\n",
    "    open=[[f,g,h,[start]]]\n",
    "    path=[]\n",
    "    while True:\n",
    "        open.sort()\n",
    "        open.reverse()\n",
    "        next = open.pop()\n",
    "        path=next[3].copy()\n",
    "        for i in range(len(points)):\n",
    "            if points[i] not in path:\n",
    "                g=len(grp.trace_route(carla.Location(x=path[len(path)-1][0],y=path[len(path)-1][1],z=0), carla.Location(x=points[i][0],y=points[i][1],z=0)))+next[1]\n",
    "                h=0\n",
    "                fpath=path.copy()\n",
    "                fpath.append(points[i])\n",
    "                for j in range(len(points)):\n",
    "                    if points[j]not in fpath:\n",
    "                        hj=dist(points[j],points[i])\n",
    "                        if hj>h:\n",
    "                            h=hj\n",
    "                f=h+g\n",
    "                open.append([f,g,h,fpath])\n",
    "                if len(fpath)==len(points)+1:\n",
    "                    return fpath\n",
    "astar()"
   ]
  },
  {
   "cell_type": "code",
   "execution_count": null,
   "id": "5113f411-0be8-49dd-96db-f150672ddc97",
   "metadata": {},
   "outputs": [],
   "source": [
    "[[193, 230],\n",
    " [193, 200],\n",
    " [193, 125],\n",
    " [100, 103],\n",
    " [-8, 140],\n",
    " [20, 190],\n",
    " [40, 210],\n",
    " [80, 239],\n",
    " [135, 210],\n",
    " [165, 235],\n",
    " [40, 290],\n",
    " [95, 305],\n",
    " [2, 300]]"
   ]
  },
  {
   "cell_type": "code",
   "execution_count": 19,
   "id": "d476fa71-31d6-42b0-90f9-e1080daa32cc",
   "metadata": {},
   "outputs": [
    {
     "name": "stdout",
     "output_type": "stream",
     "text": [
      "1542\n"
     ]
    }
   ],
   "source": [
    "import sys\n",
    "sys.path.append('/home/youmad55/Downloads/CARLA_0.9.15/PythonAPI/carla')\n",
    "from agents.navigation.global_route_planner import GlobalRoutePlanner\n",
    "grp = GlobalRoutePlanner(world.get_map(), 1)\n",
    "ws1=grp.trace_route(carla.Location(x=193,y=230,z=0),carla.Location(x=193,y=200,z=0))\n",
    "ws2=grp.trace_route(carla.Location(x=193,y=200,z=0),carla.Location(x=193,y=125,z=0))\n",
    "ws3=grp.trace_route(carla.Location(x=193,y=125,z=0),carla.Location(x=100,y=103,z=0))\n",
    "ws4=grp.trace_route(carla.Location(x=100,y=103,z=0),carla.Location(x=-8,y=140,z=0))\n",
    "ws5=grp.trace_route(carla.Location(x=-8,y=140,z=0),carla.Location(x=20,y=190,z=0))\n",
    "ws6=grp.trace_route(carla.Location(x=20,y=190,z=0),carla.Location(x=40,y=210,z=0))\n",
    "ws7=grp.trace_route(carla.Location(x=40,y=210,z=0),carla.Location(x=80,y=239,z=0))\n",
    "ws8=grp.trace_route(carla.Location(x=80,y=239,z=0),carla.Location(x=135,y=210,z=0))\n",
    "ws9=grp.trace_route(carla.Location(x=135,y=210,z=0),carla.Location(x=165,y=235,z=0))\n",
    "ws10=grp.trace_route(carla.Location(x=165,y=235,z=0),carla.Location(x=40,y=290,z=0))\n",
    "ws11=grp.trace_route(carla.Location(x=40,y=290,z=0),carla.Location(x=95,y=305,z=0))\n",
    "ws12=grp.trace_route(carla.Location(x=95,y=305,z=0),carla.Location(x=2,y=300,z=0))\n",
    "wss=[ws1,ws2,ws3,ws4,ws5,ws6,ws7,ws8,ws9,ws10,ws11,ws12]\n",
    "for ws in wss:\n",
    "    for w in ws:\n",
    "        world.debug.draw_string(w[0].transform.location, '^', draw_shadow=False,\n",
    "            color=carla.Color(r=0, g=0, b=255), life_time=60.0,\n",
    "            persistent_lines=True)\n",
    "print(len(ws1)+len(ws2)+len(ws3)+len(ws4)+len(ws5)+len(ws6)+len(ws7)+len(ws8)+len(ws9)+len(ws10)+len(ws11)+len(ws12))"
   ]
  },
  {
   "cell_type": "code",
   "execution_count": null,
   "id": "0c1955c0-0e57-4bd9-958b-d797be4f362c",
   "metadata": {},
   "outputs": [],
   "source": [
    "[193,230]\n",
    "[193,200]\n",
    "[193,125]\n",
    "[100,103]\n",
    "[-8,140]\n",
    "[20,190]\n",
    "[40,210]\n",
    "[2,300]\n",
    "[40,290]\n",
    "[95,305]\n",
    "[80,239]\n",
    "[135,210]\n",
    "[165,235]"
   ]
  },
  {
   "cell_type": "code",
   "execution_count": 12,
   "id": "68213cd7-d438-4f2a-8cd4-4e533ad0bd6d",
   "metadata": {},
   "outputs": [
    {
     "name": "stdout",
     "output_type": "stream",
     "text": [
      "1729\n"
     ]
    }
   ],
   "source": [
    "ws1=grp.trace_route(carla.Location(x=193,y=230,z=0),carla.Location(x=193,y=200,z=0))\n",
    "ws2=grp.trace_route(carla.Location(x=193,y=200,z=0),carla.Location(x=193,y=125,z=0))\n",
    "ws3=grp.trace_route(carla.Location(x=193,y=125,z=0),carla.Location(x=100,y=103,z=0))\n",
    "ws4=grp.trace_route(carla.Location(x=100,y=103,z=0),carla.Location(x=-8,y=140,z=0))\n",
    "ws5=grp.trace_route(carla.Location(x=-8,y=140,z=0),carla.Location(x=20,y=190,z=0))\n",
    "ws6=grp.trace_route(carla.Location(x=20,y=190,z=0),carla.Location(x=40,y=210,z=0))\n",
    "ws7=grp.trace_route(carla.Location(x=40,y=210,z=0),carla.Location(x=2,y=300,z=0))\n",
    "ws8=grp.trace_route(carla.Location(x=2,y=300,z=0),carla.Location(x=40,y=290,z=0))\n",
    "ws9=grp.trace_route(carla.Location(x=40,y=290,z=0),carla.Location(x=95,y=305,z=0))\n",
    "ws10=grp.trace_route(carla.Location(x=95,y=305,z=0),carla.Location(x=80,y=239,z=0))\n",
    "ws11=grp.trace_route(carla.Location(x=80,y=239,z=0),carla.Location(x=135,y=210,z=0))\n",
    "ws12=grp.trace_route(carla.Location(x=135,y=210,z=0),carla.Location(x=165,y=235,z=0))\n",
    "wss=[ws1,ws2,ws3,ws4,ws5,ws6,ws7,ws8,ws9,ws10,ws11,ws12]\n",
    "for ws in wss:\n",
    "    for w in ws:\n",
    "        world.debug.draw_string(w[0].transform.location, '^', draw_shadow=False,\n",
    "            color=carla.Color(r=255, g=0, b=255), life_time=60.0,\n",
    "            persistent_lines=True)\n",
    "print(len(ws1)+len(ws2)+len(ws3)+len(ws4)+len(ws5)+len(ws6)+len(ws7)+len(ws8)+len(ws9)+len(ws10)+len(ws11)+len(ws12))"
   ]
  },
  {
   "cell_type": "code",
   "execution_count": null,
   "id": "ab4b4d98-ac56-430c-9040-e1a2c12afbca",
   "metadata": {},
   "outputs": [],
   "source": [
    "[[193, 230],\n",
    " [165, 235],\n",
    " [135, 210],\n",
    " [193, 200],\n",
    " [193, 125],\n",
    " [100, 103],\n",
    " [-8, 140],\n",
    " [20, 190],\n",
    " [40, 210],\n",
    " [80, 239],\n",
    " [95, 305],\n",
    " [40, 290],\n",
    " [2, 300]]\n"
   ]
  },
  {
   "cell_type": "code",
   "execution_count": 11,
   "id": "b6169182-a7fa-44de-8896-293c5eb08b21",
   "metadata": {},
   "outputs": [
    {
     "name": "stdout",
     "output_type": "stream",
     "text": [
      "2294\n"
     ]
    }
   ],
   "source": [
    "import sys\n",
    "sys.path.append('/home/youmad55/Downloads/CARLA_0.9.15/PythonAPI/carla')\n",
    "from agents.navigation.global_route_planner import GlobalRoutePlanner\n",
    "grp = GlobalRoutePlanner(world.get_map(), 1)\n",
    "ws1=grp.trace_route(carla.Location(x=193,y=230,z=0),carla.Location(x=165,y=235,z=0))\n",
    "ws2=grp.trace_route(carla.Location(x=165,y=235,z=0),carla.Location(x=135,y=210,z=0))\n",
    "ws3=grp.trace_route(carla.Location(x=135,y=210,z=0),carla.Location(x=193,y=200,z=0))\n",
    "ws4=grp.trace_route(carla.Location(x=193,y=200,z=0),carla.Location(x=193,y=125,z=0))\n",
    "ws5=grp.trace_route(carla.Location(x=193,y=125,z=0),carla.Location(x=100,y=103,z=0))\n",
    "ws6=grp.trace_route(carla.Location(x=100,y=103,z=0),carla.Location(x=-8,y=140,z=0))\n",
    "ws7=grp.trace_route(carla.Location(x=-8,y=140,z=0),carla.Location(x=20,y=190,z=0))\n",
    "ws8=grp.trace_route(carla.Location(x=20,y=190,z=0),carla.Location(x=40,y=210,z=0))\n",
    "ws9=grp.trace_route(carla.Location(x=40,y=210,z=0),carla.Location(x=80,y=239,z=0))\n",
    "ws10=grp.trace_route(carla.Location(x=80,y=239,z=0),carla.Location(x=95,y=305,z=0))\n",
    "ws11=grp.trace_route(carla.Location(x=95,y=305,z=0),carla.Location(x=40,y=290,z=0))\n",
    "ws12=grp.trace_route(carla.Location(x=40,y=290,z=0),carla.Location(x=2,y=300,z=0))\n",
    "wss=[ws1,ws2,ws3,ws4,ws5,ws6,ws7,ws8,ws9,ws10,ws11,ws12]\n",
    "for ws in wss:\n",
    "    for w in ws:\n",
    "        world.debug.draw_string(w[0].transform.location, '^', draw_shadow=False,\n",
    "            color=carla.Color(r=0, g=0, b=255), life_time=60.0,\n",
    "            persistent_lines=True)\n",
    "print(len(ws1)+len(ws2)+len(ws3)+len(ws4)+len(ws5)+len(ws6)+len(ws7)+len(ws8)+len(ws9)+len(ws10)+len(ws11)+len(ws12))"
   ]
  },
  {
   "cell_type": "code",
   "execution_count": 41,
   "id": "fa54b912-4daf-47db-9353-7f32a0668268",
   "metadata": {},
   "outputs": [
    {
     "data": {
      "text/plain": [
       "[[193, 230],\n",
       " [193, 200],\n",
       " [193, 125],\n",
       " [100, 103],\n",
       " [-8, 140],\n",
       " [20, 190],\n",
       " [40, 210],\n",
       " [80, 239],\n",
       " [135, 210],\n",
       " [165, 235],\n",
       " [40, 290],\n",
       " [95, 305],\n",
       " [2, 300]]"
      ]
     },
     "execution_count": 41,
     "metadata": {},
     "output_type": "execute_result"
    }
   ],
   "source": [
    "def dist(s,e):\n",
    "    return abs(s[0]-e[0])+abs(s[1]-e[1])\n",
    "def astar():\n",
    "    points=[[-8,140],[100,103],[193,125],[193,200],[165,235],[80,239],[135,210],[40,210],[40,290],[20,190],[95,305],[2,300]]\n",
    "    start=[193,230]\n",
    "\n",
    "    f=0\n",
    "    h=0\n",
    "    g=0\n",
    "    open=[[f,g,h,[start]]]\n",
    "    path=[]\n",
    "    while True:\n",
    "        min_ele = open[0][0]\n",
    "        index=0\n",
    "        for i in range(1, len(open)):\n",
    "            if open[i][0] < min_ele:\n",
    "                min_ele = open[i][0]\n",
    "                index=i\n",
    "        next = open[index]\n",
    "        open.pop(index)\n",
    "        path=next[3].copy()\n",
    "        for i in range(len(points)):\n",
    "            if points[i] not in path:\n",
    "                g=len(grp.trace_route(carla.Location(x=path[len(path)-1][0],y=path[len(path)-1][1],z=0), carla.Location(x=points[i][0],y=points[i][1],z=0)))+next[1]\n",
    "                h=0\n",
    "                fpath=path.copy()\n",
    "                fpath.append(points[i])\n",
    "                for j in range(len(points)):\n",
    "                    if points[j]not in fpath:\n",
    "                        hj=dist(points[j],points[i])\n",
    "                        if hj>h:\n",
    "                            h=hj\n",
    "                f=h+g\n",
    "                open.append([f,g,h,fpath])\n",
    "                if len(fpath)==len(points)+1:\n",
    "                    return fpath\n",
    "astar()"
   ]
  },
  {
   "cell_type": "code",
   "execution_count": 22,
   "id": "711d90fa-a7fb-4f2f-889f-ff3c45073d9a",
   "metadata": {},
   "outputs": [
    {
     "name": "stdout",
     "output_type": "stream",
     "text": [
      "1542\n"
     ]
    }
   ],
   "source": [
    "ws1=grp.trace_route(carla.Location(x=193,y=230,z=0),carla.Location(x=193,y=200,z=0))\n",
    "ws2=grp.trace_route(carla.Location(x=193,y=200,z=0),carla.Location(x=193,y=125,z=0))\n",
    "ws3=grp.trace_route(carla.Location(x=193,y=125,z=0),carla.Location(x=100,y=103,z=0))\n",
    "ws4=grp.trace_route(carla.Location(x=100,y=103,z=0),carla.Location(x=-8,y=140,z=0))\n",
    "ws5=grp.trace_route(carla.Location(x=-8,y=140,z=0),carla.Location(x=20,y=190,z=0))\n",
    "ws6=grp.trace_route(carla.Location(x=20,y=190,z=0),carla.Location(x=40,y=210,z=0))\n",
    "ws7=grp.trace_route(carla.Location(x=40,y=210,z=0),carla.Location(x=80,y=239,z=0))\n",
    "ws8=grp.trace_route(carla.Location(x=80,y=239,z=0),carla.Location(x=135,y=210,z=0))\n",
    "ws9=grp.trace_route(carla.Location(x=135,y=210,z=0),carla.Location(x=165,y=235,z=0))\n",
    "ws10=grp.trace_route(carla.Location(x=165,y=235,z=0),carla.Location(x=40,y=290,z=0))\n",
    "ws11=grp.trace_route(carla.Location(x=40,y=290,z=0),carla.Location(x=95,y=305,z=0))\n",
    "ws12=grp.trace_route(carla.Location(x=95,y=305,z=0),carla.Location(x=2,y=300,z=0))\n",
    "wss=[ws1,ws2,ws3,ws4,ws5,ws6,ws7,ws8,ws9,ws10,ws11,ws12]\n",
    "for ws in wss:\n",
    "    for w in ws:\n",
    "        world.debug.draw_string(w[0].transform.location, '^', draw_shadow=False,\n",
    "            color=carla.Color(r=255, g=0, b=255), life_time=60.0,\n",
    "            persistent_lines=True)\n",
    "print(len(ws1)+len(ws2)+len(ws3)+len(ws4)+len(ws5)+len(ws6)+len(ws7)+len(ws8)+len(ws9)+len(ws10)+len(ws11)+len(ws12))"
   ]
  },
  {
   "cell_type": "code",
   "execution_count": 45,
   "id": "1b5176f1-e46a-40d0-8814-e071a905242f",
   "metadata": {},
   "outputs": [
    {
     "data": {
      "text/plain": [
       "[[193, 230],\n",
       " [193, 200],\n",
       " [193, 125],\n",
       " [100, 103],\n",
       " [-8, 140],\n",
       " [20, 190],\n",
       " [40, 210],\n",
       " [80, 239],\n",
       " [135, 210],\n",
       " [165, 235],\n",
       " [40, 290],\n",
       " [95, 305],\n",
       " [2, 300]]"
      ]
     },
     "execution_count": 45,
     "metadata": {},
     "output_type": "execute_result"
    }
   ],
   "source": [
    "def dist(s,e):\n",
    "    return abs(s[0]-e[0])+abs(s[1]-e[1])\n",
    "def astar():\n",
    "    points=[[-8,140],[100,103],[193,125],[193,200],[165,235],[80,239],[135,210],[40,210],[40,290],[20,190],[95,305],[2,300]]\n",
    "    start=[193,230]\n",
    "\n",
    "    f=0\n",
    "    h=0\n",
    "    g=0\n",
    "    open=[[f,g,h,[start]]]\n",
    "    path=[]\n",
    "    while True:\n",
    "        min_ele = open[0][0]\n",
    "        index=0\n",
    "        for i in range(1, len(open)):\n",
    "            if open[i][0] < min_ele:\n",
    "                min_ele = open[i][0]\n",
    "                index=i\n",
    "        next = open[index]\n",
    "        open.pop(index)\n",
    "        path=next[3].copy()\n",
    "        for i in range(len(points)):\n",
    "            if points[i] not in path:\n",
    "                gp=len(grp.trace_route(carla.Location(x=path[len(path)-1][0],y=path[len(path)-1][1],z=0), carla.Location(x=points[i][0],y=points[i][1],z=0)))\n",
    "                if (gp<450 and path[len(path)-1]==[95,305]) or(gp<300 and path[len(path)-1]!=[95,305]):\n",
    "                    g=gp+next[1]\n",
    "                    h=0\n",
    "                    fpath=path.copy()\n",
    "                    fpath.append(points[i])\n",
    "                    for j in range(len(points)):\n",
    "                        if points[j]not in fpath:\n",
    "                            hj=dist(points[j],points[i])\n",
    "                            if hj>h:\n",
    "                                h=hj\n",
    "                    f=h+g\n",
    "                    open.append([f,g,h,fpath])\n",
    "                    if len(fpath)==len(points)+1:\n",
    "                        return fpath\n",
    "astar()"
   ]
  },
  {
   "cell_type": "code",
   "execution_count": 2,
   "id": "eb6ee98d-37ea-4201-973f-f5732cefd24d",
   "metadata": {},
   "outputs": [
    {
     "data": {
      "text/plain": [
       "[[193, 230],\n",
       " [193, 200],\n",
       " [193, 125],\n",
       " [100, 103],\n",
       " [-8, 140],\n",
       " [20, 190],\n",
       " [40, 210],\n",
       " [80, 239],\n",
       " [135, 210],\n",
       " [165, 235],\n",
       " [40, 290],\n",
       " [95, 305],\n",
       " [2, 300]]"
      ]
     },
     "execution_count": 2,
     "metadata": {},
     "output_type": "execute_result"
    }
   ],
   "source": [
    "import sys\n",
    "sys.path.append('/home/youmad55/Downloads/CARLA_0.9.15/PythonAPI/carla')\n",
    "from agents.navigation.global_route_planner import GlobalRoutePlanner\n",
    "grp = GlobalRoutePlanner(world.get_map(), 1)\n",
    "def dist(s,e):\n",
    "    return abs(s[0]-e[0])+abs(s[1]-e[1])\n",
    "def astar():\n",
    "    points=[[-8,140],[100,103],[193,125],[193,200],[165,235],[80,239],[135,210],[40,210],[40,290],[20,190],[95,305],[2,300]]\n",
    "    start=[193,230]\n",
    "\n",
    "    f=0\n",
    "    h=0\n",
    "    g=0\n",
    "    open=[[f,g,h,[start]]]\n",
    "    path=[]\n",
    "    while True:\n",
    "        min_ele = open[0][0]\n",
    "        index=0\n",
    "        for i in range(1, len(open)):\n",
    "            if open[i][0] < min_ele:\n",
    "                min_ele = open[i][0]\n",
    "                index=i\n",
    "        next = open[index]\n",
    "        open.pop(index)\n",
    "        path=next[3].copy()\n",
    "        for i in range(len(points)):\n",
    "            if points[i] not in path:\n",
    "                gp=len(grp.trace_route(carla.Location(x=path[len(path)-1][0],y=path[len(path)-1][1],z=0), carla.Location(x=points[i][0],y=points[i][1],z=0)))\n",
    "                if (gp<450 and path[len(path)-1]==[95,305]) or(gp<300 and path[len(path)-1]!=[95,305]):\n",
    "                    g=gp+next[1]\n",
    "                    h=0\n",
    "                    fpath=path.copy()\n",
    "                    fpath.append(points[i])\n",
    "                    for j in range(len(points)):\n",
    "                        if points[j]not in fpath:\n",
    "                            hj=dist(points[j],points[i])\n",
    "                            if hj>h:\n",
    "                                h=hj\n",
    "                    f=2.1*h+g\n",
    "                    open.append([f,g,h,fpath])\n",
    "                    if len(fpath)==len(points)+1:\n",
    "                        return fpath\n",
    "astar()"
   ]
  },
  {
   "cell_type": "code",
   "execution_count": 59,
   "id": "54f3331c-e5bb-4573-b396-ed821791553d",
   "metadata": {},
   "outputs": [
    {
     "name": "stdout",
     "output_type": "stream",
     "text": [
      "1542\n"
     ]
    }
   ],
   "source": [
    "astar()\n",
    "ws1=grp.trace_route(carla.Location(x=193,y=230,z=0),carla.Location(x=193,y=200,z=0))\n",
    "ws2=grp.trace_route(carla.Location(x=193,y=200,z=0),carla.Location(x=193,y=125,z=0))\n",
    "ws3=grp.trace_route(carla.Location(x=193,y=125,z=0),carla.Location(x=100,y=103,z=0))\n",
    "ws4=grp.trace_route(carla.Location(x=100,y=103,z=0),carla.Location(x=-8,y=140,z=0))\n",
    "ws5=grp.trace_route(carla.Location(x=-8,y=140,z=0),carla.Location(x=20,y=190,z=0))\n",
    "ws6=grp.trace_route(carla.Location(x=20,y=190,z=0),carla.Location(x=40,y=210,z=0))\n",
    "ws7=grp.trace_route(carla.Location(x=40,y=210,z=0),carla.Location(x=80,y=239,z=0))\n",
    "ws8=grp.trace_route(carla.Location(x=80,y=239,z=0),carla.Location(x=135,y=210,z=0))\n",
    "ws9=grp.trace_route(carla.Location(x=135,y=210,z=0),carla.Location(x=165,y=235,z=0))\n",
    "ws10=grp.trace_route(carla.Location(x=165,y=235,z=0),carla.Location(x=40,y=290,z=0))\n",
    "ws11=grp.trace_route(carla.Location(x=40,y=290,z=0),carla.Location(x=95,y=305,z=0))\n",
    "ws12=grp.trace_route(carla.Location(x=95,y=305,z=0),carla.Location(x=2,y=300,z=0))\n",
    "wss=[ws1,ws2,ws3,ws4,ws5,ws6,ws7,ws8,ws9,ws10,ws11,ws12]\n",
    "route=[]\n",
    "for ws in wss:\n",
    "    route.extend(ws)\n",
    "    for w in ws:\n",
    "        world.debug.draw_string(w[0].transform.location, '^', draw_shadow=False,\n",
    "            color=carla.Color(r=255, g=0, b=255), life_time=600.0,\n",
    "            persistent_lines=True)\n"
   ]
  },
  {
   "cell_type": "code",
   "execution_count": 3,
   "id": "70201e03-73b8-48de-98e0-80db3d059fe6",
   "metadata": {},
   "outputs": [],
   "source": [
    "\n",
    "import carla #the sim library itself\n",
    "import cv2 #to work with images from cameras\n",
    "import time # towork with images from cameras\n",
    "import numpy as np #in this example to change image representation - re-shaping\n",
    "import math\n",
    "import random\n",
    "import sys\n",
    "#astar()\n",
    "client = carla.Client('localhost', 2000)\n",
    "#world = client.get_world()\n",
    "world = client.load_world('Town02')\n",
    "map=world.get_map()\n",
    "sys.path.append('/home/youmad55/Downloads/CARLA_0.9.15/PythonAPI/carla')\n",
    "from agents.navigation.global_route_planner import GlobalRoutePlanner\n",
    "grp = GlobalRoutePlanner(world.get_map(), 1)\n",
    "\n",
    "ws1=grp.trace_route(carla.Location(x=193,y=230,z=0),carla.Location(x=193,y=200,z=0))\n",
    "ws2=grp.trace_route(carla.Location(x=193,y=200,z=0),carla.Location(x=193,y=125,z=0))\n",
    "wa=map.get_waypoint(carla.Location(x=100,y=103,z=0))\n",
    "ws3=grp.trace_route(carla.Location(x=193,y=125,z=0),wa.transform.location)\n",
    "ws4=grp.trace_route(carla.Location(x=100,y=103,z=0),carla.Location(x=-8,y=140,z=0))\n",
    "ws5=grp.trace_route(carla.Location(x=-8,y=140,z=0),carla.Location(x=20,y=190,z=0))\n",
    "ws6=grp.trace_route(carla.Location(x=20,y=190,z=0),carla.Location(x=40,y=210,z=0))\n",
    "ws7=grp.trace_route(carla.Location(x=40,y=210,z=0),carla.Location(x=80,y=239,z=0))\n",
    "ws8=grp.trace_route(carla.Location(x=80,y=239,z=0),carla.Location(x=135,y=210,z=0))\n",
    "wa=map.get_waypoint(carla.Location(x=165,y=235,z=0))\n",
    "ws9=grp.trace_route(carla.Location(x=135,y=210,z=0),wa.transform.location)\n",
    "ws10=grp.trace_route(carla.Location(x=165,y=235,z=0),carla.Location(x=40,y=290,z=0))\n",
    "ws11=grp.trace_route(carla.Location(x=40,y=290,z=0),carla.Location(x=95,y=305,z=0))\n",
    "ws12=grp.trace_route(carla.Location(x=95,y=305,z=0),carla.Location(x=2,y=300,z=0))\n",
    "wss=[ws1,ws2,ws3,ws4,ws5,ws6,ws7,ws8,ws9,ws10,ws11,ws12]\n",
    "route=[]\n",
    "for ws in wss:\n",
    "    route.extend(ws)\n",
    "    for w in ws:\n",
    "        world.debug.draw_string(w[0].transform.location, '^', draw_shadow=False,\n",
    "            color=carla.Color(r=255, g=0, b=255), life_time=600.0,\n",
    "            persistent_lines=True)\n",
    "\n",
    "# define speed contstants\n",
    "PREFERRED_SPEED = 30 # what it says\n",
    "SPEED_THRESHOLD = 2 #defines when we get close to desired speed so we drop the\n",
    "\n",
    "# Max steering angle\n",
    "MAX_STEER_DEGREES = 40\n",
    "\n",
    "#camera mount offset on the car - you can tweak these to have the car in view or not\n",
    "CAMERA_POS_Z = 3 \n",
    "CAMERA_POS_X = -5 \n",
    "\n",
    "#adding params to display text to image\n",
    "font = cv2.FONT_HERSHEY_SIMPLEX\n",
    "# org - defining lines to display telemetry values on the screen\n",
    "org = (30, 30) # this line will be used to show current speed\n",
    "org2 = (30, 50) # this line will be used for future steering angle\n",
    "org3 = (30, 70) # and another line for future telemetry outputs\n",
    "org4 = (30, 90) # and another line for future telemetry outputs\n",
    "org3 = (30, 110) # and another line for future telemetry outputs\n",
    "fontScale = 0.5\n",
    "# white color\n",
    "color = (255, 255, 255)\n",
    "# Line thickness of 2 px\n",
    "thickness = 1\n",
    "\n",
    "\n",
    "# maintain speed function\n",
    "def maintain_speed(s):\n",
    "    ''' \n",
    "    this is a very simple function to maintan desired speed\n",
    "    s arg is actual current speed\n",
    "    '''\n",
    "    if s >= PREFERRED_SPEED:\n",
    "        return 0\n",
    "    elif s < PREFERRED_SPEED - SPEED_THRESHOLD:\n",
    "        return 0.9 # think of it as % of \"full gas\"\n",
    "    else:\n",
    "        return 0.4 # tweak this if the car is way over or under preferred speed \n",
    "\n",
    "#function to subtract 2 vectors\n",
    "def angle_between(v1, v2):\n",
    "    return math.degrees(np.arctan2(v1[1], v1[0]) - np.arctan2(v2[1], v2[0]))\n",
    "\n",
    "# function to get angle between the car and target waypoint\n",
    "def get_angle(car,wp):\n",
    "    '''\n",
    "    this function to find direction to selected waypoint\n",
    "    '''\n",
    "    vehicle_pos = car.get_transform()\n",
    "    car_x = vehicle_pos.location.x\n",
    "    car_y = vehicle_pos.location.y\n",
    "    wp_x = wp.transform.location.x\n",
    "    wp_y = wp.transform.location.y\n",
    "    \n",
    "    # vector to waypoint\n",
    "    x = (wp_x - car_x)/((wp_y - car_y)**2 + (wp_x - car_x)**2)**0.5\n",
    "    y = (wp_y - car_y)/((wp_y - car_y)**2 + (wp_x - car_x)**2)**0.5\n",
    "    \n",
    "    #car vector\n",
    "    car_vector = vehicle_pos.get_forward_vector()\n",
    "    degrees = angle_between((x,y),(car_vector.x,car_vector.y))\n",
    "\n",
    "    return degrees\n",
    "\n",
    "#spawn_points = world.get_map().get_spawn_points()\n",
    "start_point = route[0][0].transform\n",
    "start_point.location.z=0.5\n",
    "#spectator = world.get_spectator() #start_point was used to spawn the car but we move 1m up to avoid being on the floor\n",
    "#spawn_points[0].location.y = 230\n",
    "#spawn_points[0].location.x = 193\n",
    "#spawn_points[0].rotation.pitch=-3\n",
    "#spawn_points[0].rotation.yaw=3\n",
    "#spawn_points[0].rotation.roll=-3\n",
    "#look for a blueprint of Mini car\n",
    "vehicle_bp = world.get_blueprint_library().filter('*mini*')\n",
    "\n",
    "vehicle = world.try_spawn_actor(vehicle_bp[0], start_point)\n",
    "\n",
    "#setting RGB Camera - this follow the approach explained in a Carla video\n",
    "# link: https://www.youtube.com/watch?v=om8klsBj4rc&t=1184s\n",
    "\n",
    "camera_bp = world.get_blueprint_library().find('sensor.camera.rgb')\n",
    "camera_bp.set_attribute('image_size_x', '640') # this ratio works in CARLA 9.14 on Windows\n",
    "camera_bp.set_attribute('image_size_y', '360')\n",
    "\n",
    "camera_init_trans = carla.Transform(carla.Location(z=CAMERA_POS_Z,x=CAMERA_POS_X))\n",
    "#this creates the camera in the sim\n",
    "camera = world.spawn_actor(camera_bp,camera_init_trans,attach_to=vehicle)\n",
    "\n",
    "def camera_callback(image,data_dict):\n",
    "    data_dict['image'] = np.reshape(np.copy(image.raw_data),(image.height,image.width,4))\n",
    "\n",
    "image_w = camera_bp.get_attribute('image_size_x').as_int()\n",
    "image_h = camera_bp.get_attribute('image_size_y').as_int()\n",
    "\n",
    "camera_data = {'image': np.zeros((image_h,image_w,4))}\n",
    "# this actually opens a live stream from the camera\n",
    "camera.listen(lambda image: camera_callback(image,camera_data))\n",
    "\n",
    "cv2.namedWindow('RGB Camera',cv2.WINDOW_AUTOSIZE)\n",
    "cv2.imshow('RGB Camera',camera_data['image'])\n",
    "\n",
    "#main loop \n",
    "quit = False\n",
    "curr_wp = 5 #we will be tracking waypoints in the route and switch to next one wen we get close to current one\n",
    "predicted_angle = 0\n",
    "while curr_wp<len(route)-1:\n",
    "    # Carla Tick\n",
    "    world.tick()\n",
    "    if cv2.waitKey(1) == ord('q'):\n",
    "        quit = True\n",
    "        vehicle.apply_control(carla.VehicleControl(throttle=0,steer=0,brake=1))\n",
    "        break\n",
    "    image = camera_data['image']\n",
    "    \n",
    "    while curr_wp<len(route) and vehicle.get_transform().location.distance(route[curr_wp][0].transform.location)<5:\n",
    "        curr_wp +=1 #move to next wp if we are too close\n",
    "    \n",
    "    predicted_angle = get_angle(vehicle,route[curr_wp][0])\n",
    "    image = cv2.putText(image, 'Steering angle: '+str(round(predicted_angle,3)), org, font, fontScale, color, thickness, cv2.LINE_AA)\n",
    "    v = vehicle.get_velocity()\n",
    "    speed = round(3.6 * math.sqrt(v.x**2 + v.y**2 + v.z**2),0)\n",
    "    image = cv2.putText(image, 'Speed: '+str(int(speed)), org2, font, fontScale, color, thickness, cv2.LINE_AA)\n",
    "    image = cv2.putText(image, 'Next wp: '+str(curr_wp), org3, font, fontScale, color, thickness, cv2.LINE_AA)\n",
    "    estimated_throttle = maintain_speed(speed)\n",
    "    # extra checks on predicted angle when values close to 360 degrees are returned\n",
    "    if predicted_angle<-300:\n",
    "        predicted_angle = predicted_angle+360\n",
    "    elif predicted_angle > 300:\n",
    "        predicted_angle = predicted_angle -360\n",
    "    steer_input = predicted_angle\n",
    "    # limit steering to max angel, say 40 degrees\n",
    "    if predicted_angle<-MAX_STEER_DEGREES:\n",
    "        steer_input = -MAX_STEER_DEGREES\n",
    "    elif predicted_angle>MAX_STEER_DEGREES:\n",
    "        steer_input = MAX_STEER_DEGREES\n",
    "    # conversion from degrees to -1 to +1 input for apply control function\n",
    "    steer_input = steer_input/75\n",
    "\n",
    "    vehicle.apply_control(carla.VehicleControl(throttle=estimated_throttle, steer=steer_input))\n",
    "    cv2.imshow('RGB Camera',image)\n",
    "    \n",
    "\n",
    "#clean up\n",
    "cv2.destroyAllWindows()\n",
    "camera.stop()\n",
    "for sensor in world.get_actors().filter('*sensor*'):\n",
    "    sensor.destroy()\n",
    "for actor in world.get_actors().filter('*vehicle*'):\n",
    "    actor.destroy()"
   ]
  },
  {
   "cell_type": "code",
   "execution_count": 39,
   "id": "d45bdf22-6c86-4a9c-bd7d-f77b3102f886",
   "metadata": {},
   "outputs": [
    {
     "name": "stdout",
     "output_type": "stream",
     "text": [
      "620\n",
      "581\n",
      "379\n",
      "395\n",
      "410\n",
      "246\n",
      "327\n",
      "185\n",
      "266\n",
      "142\n",
      "331\n"
     ]
    }
   ],
   "source": [
    "#ws1=grp.trace_route(carla.Location(x=193,y=230,z=0),carla.Location(x=-8,y=140,z=0))\n",
    "ws2=grp.trace_route(carla.Location(x=2,y=300,z=0),carla.Location(x=-8,y=140,z=0))\n",
    "ws3=grp.trace_route(carla.Location(x=2,y=300,z=0),carla.Location(x=100,y=103,z=0))\n",
    "ws4=grp.trace_route(carla.Location(x=2,y=300,z=0),carla.Location(x=193,y=125,z=0))\n",
    "ws5=grp.trace_route(carla.Location(x=2,y=300,z=0),carla.Location(x=193,y=200,z=0))\n",
    "ws6=grp.trace_route(carla.Location(x=2,y=300,z=0),carla.Location(x=165,y=235,z=0))\n",
    "ws7=grp.trace_route(carla.Location(x=2,y=300,z=0),carla.Location(x=80,y=239,z=0))\n",
    "ws8=grp.trace_route(carla.Location(x=2,y=300,z=0),carla.Location(x=135,y=210,z=0))\n",
    "ws9=grp.trace_route(carla.Location(x=2,y=300,z=0),carla.Location(x=40,y=210,z=0))\n",
    "ws10=grp.trace_route(carla.Location(x=2,y=300,z=0),carla.Location(x=40,y=290,z=0))\n",
    "ws11=grp.trace_route(carla.Location(x=2,y=300,z=0),carla.Location(x=20,y=190,z=0))\n",
    "ws12=grp.trace_route(carla.Location(x=2,y=300,z=0),carla.Location(x=95,y=305,z=0))\n",
    "wss=[ws2,ws3,ws4,ws5,ws6,ws7,ws8,ws9,ws10,ws11,ws12]\n",
    "for ws in wss:\n",
    "    print(len(ws))\n"
   ]
  },
  {
   "cell_type": "code",
   "execution_count": 4,
   "id": "ef749997-3256-45af-9635-606302071ad1",
   "metadata": {},
   "outputs": [
    {
     "name": "stdout",
     "output_type": "stream",
     "text": [
      "GENERATION 00\n",
      "=============\n",
      "Population: [0711513210128469, 0910612483211571, 0791110643185212, 0673101128195124, 0821041113912756, 0312811011926574, 0871159212110364, 0426381097112115, 0751298211131064, 0341216728109511, 0412312659781011, 0210451279831116, 0910684111532127, 0116132105127948, 0217106113812495, 0128511361092174, 0129541083111267, 0483712126115910, 0101295213611748, 0812627109415311, 0567111094318212, 0123261011897541, 0753121181261049, 0109511647831221, 0892367121104115, 0234910811112657, 0410815691223711, 0112743811651029, 0129451611810732, 0281064125119713, 0912116121048735, 0125824391011761, 0128749102111653, 0810129611134275, 0875411211106239, 0101465119123728, 0117513981021246, 0841053617112129, 0171245382106119, 0711861235191024, 0112714123510896, 0761091184131252, 0511984121072361, 0122651181037419, 0118194235127106, 0783611541210291, 0168597231112410, 0171094211612385, 0710341158291126, 0371110124692815]\n",
      "Avg. Fitness: 0.000261\n",
      "Best Route: ['start', 'City7', 'City11', 'City5', 'City1', 'City3', 'City2', 'City10', 'City12', 'City8', 'City4', 'City6', 'City9'] (Total Distance: 3346.000000)\n",
      "\n"
     ]
    },
    {
     "ename": "KeyboardInterrupt",
     "evalue": "",
     "output_type": "error",
     "traceback": [
      "\u001b[0;31m---------------------------------------------------------------------------\u001b[0m",
      "\u001b[0;31mKeyboardInterrupt\u001b[0m                         Traceback (most recent call last)",
      "Cell \u001b[0;32mIn[4], line 269\u001b[0m\n\u001b[1;32m    266\u001b[0m     tsp_generation_limit \u001b[38;5;241m=\u001b[39m \u001b[38;5;241m100\u001b[39m\n\u001b[1;32m    267\u001b[0m     tsp_printer: Optional[PrinterFunc] \u001b[38;5;241m=\u001b[39m print_stats\n\u001b[0;32m--> 269\u001b[0m     best_route, distance \u001b[38;5;241m=\u001b[39m \u001b[43mrun_evolution\u001b[49m\u001b[43m(\u001b[49m\n\u001b[1;32m    270\u001b[0m \u001b[43m    \u001b[49m\u001b[43mpopulate_func\u001b[49m\u001b[38;5;241;43m=\u001b[39;49m\u001b[43mtsp_population\u001b[49m\u001b[43m,\u001b[49m\n\u001b[1;32m    271\u001b[0m \u001b[43m    \u001b[49m\u001b[43mfitness_func\u001b[49m\u001b[38;5;241;43m=\u001b[39;49m\u001b[43mtotal_distance\u001b[49m\u001b[43m,\u001b[49m\n\u001b[1;32m    272\u001b[0m \u001b[43m    \u001b[49m\u001b[43mfitness_limit\u001b[49m\u001b[38;5;241;43m=\u001b[39;49m\u001b[43mtsp_fitness_limit\u001b[49m\u001b[43m,\u001b[49m\n\u001b[1;32m    273\u001b[0m \u001b[43m    \u001b[49m\u001b[43mselection_func\u001b[49m\u001b[38;5;241;43m=\u001b[39;49m\u001b[43mselection_pair\u001b[49m\u001b[43m,\u001b[49m\n\u001b[1;32m    274\u001b[0m \u001b[43m    \u001b[49m\u001b[43mcrossover_func\u001b[49m\u001b[38;5;241;43m=\u001b[39;49m\u001b[43mordered_crossover_1\u001b[49m\u001b[43m,\u001b[49m\n\u001b[1;32m    275\u001b[0m \u001b[43m    \u001b[49m\u001b[43mmutation_func\u001b[49m\u001b[38;5;241;43m=\u001b[39;49m\u001b[43mswap_mutation\u001b[49m\u001b[43m,\u001b[49m\n\u001b[1;32m    276\u001b[0m \u001b[43m    \u001b[49m\u001b[43mgeneration_limit\u001b[49m\u001b[38;5;241;43m=\u001b[39;49m\u001b[43mtsp_generation_limit\u001b[49m\u001b[43m,\u001b[49m\n\u001b[1;32m    277\u001b[0m \u001b[43m    \u001b[49m\u001b[43mprinter\u001b[49m\u001b[38;5;241;43m=\u001b[39;49m\u001b[43mtsp_printer\u001b[49m\n\u001b[1;32m    278\u001b[0m \u001b[43m)\u001b[49m\n\u001b[1;32m    280\u001b[0m \u001b[38;5;28mprint\u001b[39m(\u001b[38;5;124m\"\u001b[39m\u001b[38;5;124mBest Route:\u001b[39m\u001b[38;5;124m\"\u001b[39m,genome_to_cities( best_route))\n\u001b[1;32m    281\u001b[0m \u001b[38;5;28mprint\u001b[39m(\u001b[38;5;124m\"\u001b[39m\u001b[38;5;124mTotal Distance:\u001b[39m\u001b[38;5;124m\"\u001b[39m, distance)\n",
      "Cell \u001b[0;32mIn[4], line 242\u001b[0m, in \u001b[0;36mrun_evolution\u001b[0;34m(populate_func, fitness_func, fitness_limit, selection_func, crossover_func, mutation_func, generation_limit, printer)\u001b[0m\n\u001b[1;32m    239\u001b[0m next_generation \u001b[38;5;241m=\u001b[39m population[\u001b[38;5;241m0\u001b[39m:\u001b[38;5;241m2\u001b[39m]\n\u001b[1;32m    241\u001b[0m \u001b[38;5;28;01mfor\u001b[39;00m j \u001b[38;5;129;01min\u001b[39;00m \u001b[38;5;28mrange\u001b[39m(\u001b[38;5;28mint\u001b[39m(\u001b[38;5;28mlen\u001b[39m(population) \u001b[38;5;241m/\u001b[39m \u001b[38;5;241m2\u001b[39m) \u001b[38;5;241m-\u001b[39m \u001b[38;5;241m1\u001b[39m):\n\u001b[0;32m--> 242\u001b[0m     parents \u001b[38;5;241m=\u001b[39m \u001b[43mselection_func\u001b[49m\u001b[43m(\u001b[49m\u001b[43mpopulation\u001b[49m\u001b[43m,\u001b[49m\u001b[43m \u001b[49m\u001b[43mfitness_func\u001b[49m\u001b[43m)\u001b[49m\n\u001b[1;32m    243\u001b[0m     offspring_a, offspring_b \u001b[38;5;241m=\u001b[39m crossover_func(parents[\u001b[38;5;241m0\u001b[39m], parents[\u001b[38;5;241m1\u001b[39m])\n\u001b[1;32m    244\u001b[0m     offspring_a \u001b[38;5;241m=\u001b[39m mutation_func(offspring_a)\n",
      "Cell \u001b[0;32mIn[4], line 180\u001b[0m, in \u001b[0;36mselection_pair\u001b[0;34m(population, fitness_func)\u001b[0m\n\u001b[1;32m    177\u001b[0m \u001b[38;5;28;01mdef\u001b[39;00m \u001b[38;5;21mselection_pair\u001b[39m(population: Population, fitness_func: FitnessFunc) \u001b[38;5;241m-\u001b[39m\u001b[38;5;241m>\u001b[39m Population:\n\u001b[1;32m    178\u001b[0m     \u001b[38;5;28;01mreturn\u001b[39;00m choices(\n\u001b[1;32m    179\u001b[0m         population\u001b[38;5;241m=\u001b[39mpopulation,\n\u001b[0;32m--> 180\u001b[0m         weights\u001b[38;5;241m=\u001b[39m[fitness_func(gene) \u001b[38;5;28;01mfor\u001b[39;00m gene \u001b[38;5;129;01min\u001b[39;00m population],\n\u001b[1;32m    181\u001b[0m         k\u001b[38;5;241m=\u001b[39m\u001b[38;5;241m2\u001b[39m\n\u001b[1;32m    182\u001b[0m     )\n",
      "Cell \u001b[0;32mIn[4], line 180\u001b[0m, in \u001b[0;36m<listcomp>\u001b[0;34m(.0)\u001b[0m\n\u001b[1;32m    177\u001b[0m \u001b[38;5;28;01mdef\u001b[39;00m \u001b[38;5;21mselection_pair\u001b[39m(population: Population, fitness_func: FitnessFunc) \u001b[38;5;241m-\u001b[39m\u001b[38;5;241m>\u001b[39m Population:\n\u001b[1;32m    178\u001b[0m     \u001b[38;5;28;01mreturn\u001b[39;00m choices(\n\u001b[1;32m    179\u001b[0m         population\u001b[38;5;241m=\u001b[39mpopulation,\n\u001b[0;32m--> 180\u001b[0m         weights\u001b[38;5;241m=\u001b[39m[\u001b[43mfitness_func\u001b[49m\u001b[43m(\u001b[49m\u001b[43mgene\u001b[49m\u001b[43m)\u001b[49m \u001b[38;5;28;01mfor\u001b[39;00m gene \u001b[38;5;129;01min\u001b[39;00m population],\n\u001b[1;32m    181\u001b[0m         k\u001b[38;5;241m=\u001b[39m\u001b[38;5;241m2\u001b[39m\n\u001b[1;32m    182\u001b[0m     )\n",
      "Cell \u001b[0;32mIn[4], line 48\u001b[0m, in \u001b[0;36mtotal_distance\u001b[0;34m(genome)\u001b[0m\n\u001b[1;32m     46\u001b[0m distance \u001b[38;5;241m=\u001b[39m \u001b[38;5;241m0\u001b[39m\n\u001b[1;32m     47\u001b[0m \u001b[38;5;28;01mfor\u001b[39;00m i \u001b[38;5;129;01min\u001b[39;00m \u001b[38;5;28mrange\u001b[39m(\u001b[38;5;28mlen\u001b[39m(genome) \u001b[38;5;241m-\u001b[39m \u001b[38;5;241m1\u001b[39m):\n\u001b[0;32m---> 48\u001b[0m     distance \u001b[38;5;241m+\u001b[39m\u001b[38;5;241m=\u001b[39m \u001b[43mcalculate_distance\u001b[49m\u001b[43m(\u001b[49m\u001b[43mpoints_coordinates\u001b[49m\u001b[43m[\u001b[49m\u001b[43mgenome\u001b[49m\u001b[43m[\u001b[49m\u001b[43mi\u001b[49m\u001b[43m]\u001b[49m\u001b[43m]\u001b[49m\u001b[43m,\u001b[49m\u001b[43m \u001b[49m\u001b[43mpoints_coordinates\u001b[49m\u001b[43m[\u001b[49m\u001b[43mgenome\u001b[49m\u001b[43m[\u001b[49m\u001b[43mi\u001b[49m\u001b[43m \u001b[49m\u001b[38;5;241;43m+\u001b[39;49m\u001b[43m \u001b[49m\u001b[38;5;241;43m1\u001b[39;49m\u001b[43m]\u001b[49m\u001b[43m]\u001b[49m\u001b[43m)\u001b[49m\n\u001b[1;32m     49\u001b[0m \u001b[38;5;66;03m# Add distance from the last point back to the starting point\u001b[39;00m\n\u001b[1;32m     50\u001b[0m distance \u001b[38;5;241m+\u001b[39m\u001b[38;5;241m=\u001b[39m calculate_distance(points_coordinates[genome[\u001b[38;5;241m-\u001b[39m\u001b[38;5;241m1\u001b[39m]], points_coordinates[genome[\u001b[38;5;241m0\u001b[39m]])   \u001b[38;5;66;03m# to be modifying \u001b[39;00m\n",
      "Cell \u001b[0;32mIn[4], line 42\u001b[0m, in \u001b[0;36mcalculate_distance\u001b[0;34m(a, b)\u001b[0m\n\u001b[1;32m     41\u001b[0m \u001b[38;5;28;01mdef\u001b[39;00m \u001b[38;5;21mcalculate_distance\u001b[39m(a: Tuple[\u001b[38;5;28mint\u001b[39m, \u001b[38;5;28mint\u001b[39m], b: Tuple[\u001b[38;5;28mint\u001b[39m, \u001b[38;5;28mint\u001b[39m]) \u001b[38;5;241m-\u001b[39m\u001b[38;5;241m>\u001b[39m \u001b[38;5;28mfloat\u001b[39m:\n\u001b[0;32m---> 42\u001b[0m     \u001b[38;5;28;01mreturn\u001b[39;00m \u001b[38;5;28mlen\u001b[39m(\u001b[43mgrp\u001b[49m\u001b[38;5;241;43m.\u001b[39;49m\u001b[43mtrace_route\u001b[49m\u001b[43m(\u001b[49m\u001b[43mcarla\u001b[49m\u001b[38;5;241;43m.\u001b[39;49m\u001b[43mLocation\u001b[49m\u001b[43m(\u001b[49m\u001b[43mx\u001b[49m\u001b[38;5;241;43m=\u001b[39;49m\u001b[43ma\u001b[49m\u001b[43m[\u001b[49m\u001b[38;5;241;43m0\u001b[39;49m\u001b[43m]\u001b[49m\u001b[43m,\u001b[49m\u001b[43my\u001b[49m\u001b[38;5;241;43m=\u001b[39;49m\u001b[43ma\u001b[49m\u001b[43m[\u001b[49m\u001b[38;5;241;43m1\u001b[39;49m\u001b[43m]\u001b[49m\u001b[43m,\u001b[49m\u001b[43mz\u001b[49m\u001b[38;5;241;43m=\u001b[39;49m\u001b[38;5;241;43m0\u001b[39;49m\u001b[43m)\u001b[49m\u001b[43m,\u001b[49m\u001b[43m \u001b[49m\u001b[43mcarla\u001b[49m\u001b[38;5;241;43m.\u001b[39;49m\u001b[43mLocation\u001b[49m\u001b[43m(\u001b[49m\u001b[43mx\u001b[49m\u001b[38;5;241;43m=\u001b[39;49m\u001b[43mb\u001b[49m\u001b[43m[\u001b[49m\u001b[38;5;241;43m0\u001b[39;49m\u001b[43m]\u001b[49m\u001b[43m,\u001b[49m\u001b[43my\u001b[49m\u001b[38;5;241;43m=\u001b[39;49m\u001b[43mb\u001b[49m\u001b[43m[\u001b[49m\u001b[38;5;241;43m1\u001b[39;49m\u001b[43m]\u001b[49m\u001b[43m,\u001b[49m\u001b[43mz\u001b[49m\u001b[38;5;241;43m=\u001b[39;49m\u001b[38;5;241;43m0\u001b[39;49m\u001b[43m)\u001b[49m\u001b[43m)\u001b[49m)\n",
      "File \u001b[0;32m~/Downloads/CARLA_0.9.15/PythonAPI/carla/agents/navigation/global_route_planner.py:71\u001b[0m, in \u001b[0;36mGlobalRoutePlanner.trace_route\u001b[0;34m(self, origin, destination)\u001b[0m\n\u001b[1;32m     69\u001b[0m \u001b[38;5;28;01melse\u001b[39;00m:\n\u001b[1;32m     70\u001b[0m     path \u001b[38;5;241m=\u001b[39m path \u001b[38;5;241m+\u001b[39m [edge[\u001b[38;5;124m'\u001b[39m\u001b[38;5;124mentry_waypoint\u001b[39m\u001b[38;5;124m'\u001b[39m]] \u001b[38;5;241m+\u001b[39m edge[\u001b[38;5;124m'\u001b[39m\u001b[38;5;124mpath\u001b[39m\u001b[38;5;124m'\u001b[39m] \u001b[38;5;241m+\u001b[39m [edge[\u001b[38;5;124m'\u001b[39m\u001b[38;5;124mexit_waypoint\u001b[39m\u001b[38;5;124m'\u001b[39m]]\n\u001b[0;32m---> 71\u001b[0m     closest_index \u001b[38;5;241m=\u001b[39m \u001b[38;5;28;43mself\u001b[39;49m\u001b[38;5;241;43m.\u001b[39;49m\u001b[43m_find_closest_in_list\u001b[49m\u001b[43m(\u001b[49m\u001b[43mcurrent_waypoint\u001b[49m\u001b[43m,\u001b[49m\u001b[43m \u001b[49m\u001b[43mpath\u001b[49m\u001b[43m)\u001b[49m\n\u001b[1;32m     72\u001b[0m     \u001b[38;5;28;01mfor\u001b[39;00m waypoint \u001b[38;5;129;01min\u001b[39;00m path[closest_index:]:\n\u001b[1;32m     73\u001b[0m         current_waypoint \u001b[38;5;241m=\u001b[39m waypoint\n",
      "File \u001b[0;32m~/Downloads/CARLA_0.9.15/PythonAPI/carla/agents/navigation/global_route_planner.py:392\u001b[0m, in \u001b[0;36mGlobalRoutePlanner._find_closest_in_list\u001b[0;34m(self, current_waypoint, waypoint_list)\u001b[0m\n\u001b[1;32m    390\u001b[0m closest_index \u001b[38;5;241m=\u001b[39m \u001b[38;5;241m-\u001b[39m\u001b[38;5;241m1\u001b[39m\n\u001b[1;32m    391\u001b[0m \u001b[38;5;28;01mfor\u001b[39;00m i, waypoint \u001b[38;5;129;01min\u001b[39;00m \u001b[38;5;28menumerate\u001b[39m(waypoint_list):\n\u001b[0;32m--> 392\u001b[0m     distance \u001b[38;5;241m=\u001b[39m \u001b[43mwaypoint\u001b[49m\u001b[38;5;241;43m.\u001b[39;49m\u001b[43mtransform\u001b[49m\u001b[38;5;241;43m.\u001b[39;49m\u001b[43mlocation\u001b[49m\u001b[38;5;241;43m.\u001b[39;49m\u001b[43mdistance\u001b[49m\u001b[43m(\u001b[49m\n\u001b[1;32m    393\u001b[0m \u001b[43m        \u001b[49m\u001b[43mcurrent_waypoint\u001b[49m\u001b[38;5;241;43m.\u001b[39;49m\u001b[43mtransform\u001b[49m\u001b[38;5;241;43m.\u001b[39;49m\u001b[43mlocation\u001b[49m\u001b[43m)\u001b[49m\n\u001b[1;32m    394\u001b[0m     \u001b[38;5;28;01mif\u001b[39;00m distance \u001b[38;5;241m<\u001b[39m min_distance:\n\u001b[1;32m    395\u001b[0m         min_distance \u001b[38;5;241m=\u001b[39m distance\n",
      "\u001b[0;31mKeyboardInterrupt\u001b[0m: "
     ]
    }
   ],
   "source": [
    "from random import choices, randint, randrange, random, shuffle\n",
    "from typing import List, Optional, Callable, Tuple\n",
    "import sys\n",
    "sys.path.append('/home/youmad55/Downloads/CARLA_0.9.15/PythonAPI/carla')\n",
    "from agents.navigation.global_route_planner import GlobalRoutePlanner\n",
    "grp = GlobalRoutePlanner(world.get_map(), 1)\n",
    "\n",
    "Genome = List[int]\n",
    "Population = List[Genome]\n",
    "PopulateFunc = Callable[[], Population]\n",
    "FitnessFunc = Callable[[Genome], int]\n",
    "SelectionFunc = Callable[[Population, FitnessFunc], Tuple[Genome, Genome]]\n",
    "CrossoverFunc = Callable[[Genome, Genome], Tuple[Genome, Genome]]\n",
    "MutationFunc = Callable[[Genome], Genome]\n",
    "PrinterFunc = Callable[[Population, int, FitnessFunc], None]\n",
    "\n",
    "\n",
    "#points coordinates \n",
    "points_coordinates = [\n",
    "    (193,230),\n",
    "    (-8,140),\n",
    "    (100,103),\n",
    "    (193,125),\n",
    "    (193,200),\n",
    "    (165,235),\n",
    "    (80,239),\n",
    "    (135,210),\n",
    "    (40,210),\n",
    "    (40,290),\n",
    "    (20,190),\n",
    "    (95,305),\n",
    "    (2,300)\n",
    "]\n",
    "\n",
    "#help in printing\n",
    "city_names = [\"start\",\"City1\", \"City2\", \"City3\", \"City4\",\"City5\",\"City6\",\"City7\",\"City8\",\"City9\",\"City10\",\"City11\",\"City12\"]\n",
    "\n",
    "#function to determine the whole distance of takes specific path \n",
    "\n",
    "#this is to calculate the distance between two points \n",
    "def calculate_distance(a: Tuple[int, int], b: Tuple[int, int]) -> float:\n",
    "    return len(grp.trace_route(carla.Location(x=a[0],y=a[1],z=0), carla.Location(x=b[0],y=b[1],z=0)))\n",
    "#len(grp.trace_route(carla.Location(x=a[0],y=a[1],z=0), carla.Location(x=b[0],y=b[1],z=0)))\n",
    "#and this to calculate the total distance of the whole path \n",
    "def total_distance(genome: Genome) -> int:\n",
    "    distance = 0\n",
    "    for i in range(len(genome) - 1):\n",
    "        distance += calculate_distance(points_coordinates[genome[i]], points_coordinates[genome[i + 1]])\n",
    "    # Add distance from the last point back to the starting point\n",
    "    distance += calculate_distance(points_coordinates[genome[-1]], points_coordinates[genome[0]])   # to be modifying \n",
    "    return 1/distance\n",
    "\n",
    "\n",
    "def generate_genome(length: int) -> Genome:\n",
    "    genome=[0]\n",
    "    temp = [*range(1,length)]\n",
    "    shuffle(temp)\n",
    "    genome.extend(temp)\n",
    "    return genome\n",
    "\n",
    "\n",
    "def generate_population(size: int, genome_length: int) -> Population:\n",
    "    return [generate_genome(genome_length) for _ in range(size)]\n",
    "\n",
    "\n",
    "def single_point_crossover(a: Genome, b: Genome) -> Tuple[Genome, Genome]:\n",
    "    if len(a) != len(b):\n",
    "        raise ValueError(\"Genomes a and b must be of same length\")\n",
    "\n",
    "    length = len(a)\n",
    "    if length < 2:\n",
    "        return a, b\n",
    "\n",
    "    p = randint(1, length - 1)\n",
    "    return a[:p] + b[p:], b[:p] + a[p:]\n",
    "\n",
    "# this is will be used in tsp to insure that \n",
    "def ordered_crossover(a: Genome, b: Genome) -> Tuple[Genome, Genome]:\n",
    "    if len(a) != len(b):\n",
    "        # Ensure both genomes are of the same length\n",
    "        min_length = min(len(a), len(b))\n",
    "        a = a[:min_length]\n",
    "        b = b[:min_length]\n",
    "\n",
    "    length = len(a)\n",
    "    if length < 2:\n",
    "        return a, b\n",
    "\n",
    "    p1, p2 = sorted([randint(1, length - 1) for _ in range(2)])\n",
    "    segment_a = a[p1:p2]\n",
    "    segment_b = b[p1:p2]\n",
    " \n",
    "    child_a = [city for city in b if city not in segment_a]   # g1 : 0,1,2,3,4,5,6,7,8,9,10,11   p1 = 2 , p2 = 5  , seg_a = 2,3,4,5\n",
    "                                                              # g2 : 11,10,9,8,7,6,5,4,3,2,1,0                       seg_b = 9,8,7,6\n",
    "                                                              # child_a = 11,10,9,8,7,6,1,0    , child_b = 0,1,2,3,4,5,10,11\n",
    "                                                              # child_a = 11,10,2,3,4,5,9,8,7,6,1,0\n",
    "                                                              # child_b = 0,1,9,8,7,6,2,3,4,5,10,11\n",
    "\n",
    "    child_b = [city for city in a if city not in segment_b]\n",
    "\n",
    "    # Fill in the segments at their original positions\n",
    "    child_a[p1:p2] = segment_a\n",
    "    child_b[p1:p2] = segment_b\n",
    "#    child_a[0]=a[0]\n",
    "#    child_b[0]=b[0]\n",
    "    return child_a, child_b\n",
    "\n",
    "def ordered_crossover_1(a: Genome, b: Genome) -> Tuple[Genome, Genome]:\n",
    "    if len(a) != len(b):\n",
    "        raise ValueError(\"Genomes a and b must be of the same length\")\n",
    "\n",
    "    length = len(a)\n",
    "    if length < 2:\n",
    "        return a, b\n",
    "\n",
    "    p1, p2 = sorted([randint(1, length - 1) for _ in range(2)])\n",
    "    child_a = [-1] * length\n",
    "    child_b = [-1] * length\n",
    "    \n",
    "    # Copy the segment from parent a to child a\n",
    "    child_a[p1:p2] = a[p1:p2]\n",
    "#    child_a[0] = a[0]\n",
    "\n",
    "    # Copy the segment from parent b to child b\n",
    "    child_b[p1:p2] = b[p1:p2]\n",
    "#    child_b[0] = b[0]\n",
    "\n",
    "    # Fill in the remaining positions in child a with values from parent b\n",
    "    idx = p2\n",
    "    for value in b[p2:] + b[0:p2]:\n",
    "        if value not in child_a:\n",
    "            child_a[idx % length] = value\n",
    "            idx += 1\n",
    "\n",
    "    # Fill in the remaining positions in child b with values from parent a\n",
    "    idx = p2\n",
    "    for value in a[p2:] + a[0:p2]:\n",
    "        if value not in child_b:\n",
    "            child_b[idx % length] = value\n",
    "            idx += 1\n",
    "    for ind in range(len(child_a)):\n",
    "        if child_a[ind]==a[0]:\n",
    "            temp=child_a[0]\n",
    "            child_a[0]=child_a[ind]\n",
    "            child_a[ind]=temp\n",
    "\n",
    "    for ind in range(len(child_b)):\n",
    "        if child_b[ind]==b[0]:\n",
    "            temp=child_b[0]\n",
    "            child_b[0]=child_b[ind]\n",
    "            child_b[ind]=temp\n",
    "#    child_a[0] = a[0]\n",
    "#    child_b[0] = b[0]\n",
    "    return child_a, child_b\n",
    "\n",
    "\n",
    "def mutation(genome: Genome, num: int = 1, probability: float = 0.5) -> Genome:\n",
    "    for _ in range(num):\n",
    "        index = randrange(1,len(genome))\n",
    "        genome[index] = genome[index] if random() > probability else abs(genome[index] - 1)\n",
    "    return genome\n",
    "\n",
    "\n",
    "# swap mutation will use in the tsp to ensure not to visit the same point twice \n",
    "def swap_mutation(genome: Genome, num: int = 1) -> Genome:\n",
    "    for _ in range(num):\n",
    "        index_a, index_b = randrange(1,len(genome)), randrange(1,len(genome))\n",
    "        genome[index_a], genome[index_b] = genome[index_b], genome[index_a]\n",
    "    return genome\n",
    "\n",
    "\n",
    "\n",
    "def population_fitness(population: Population, fitness_func: FitnessFunc) -> int:\n",
    "    return sum([fitness_func(genome) for genome in population])\n",
    "\n",
    "\n",
    "def selection_pair(population: Population, fitness_func: FitnessFunc) -> Population:\n",
    "    return choices(\n",
    "        population=population,\n",
    "        weights=[fitness_func(gene) for gene in population],\n",
    "        k=2\n",
    "    )\n",
    "\n",
    "\n",
    "def sort_population(population: Population, fitness_func: FitnessFunc) -> Population:\n",
    "    return sorted(population, key=fitness_func, reverse=True)\n",
    "\n",
    "\n",
    "def genome_to_string(genome: Genome) -> str:\n",
    "    return \"\".join(map(str, genome))\n",
    "\n",
    "\n",
    "def print_stats(population: Population, generation_id: int, fitness_func: FitnessFunc):\n",
    "    print(\"GENERATION %02d\" % generation_id)\n",
    "    print(\"=============\")\n",
    "    print(\"Population: [%s]\" % \", \".join([genome_to_string(gene) for gene in population]))\n",
    "    print(\"Avg. Fitness: %f\" % (population_fitness(population, fitness_func) / len(population)))\n",
    "    sorted_population = sort_population(population, fitness_func)\n",
    "    best_genome = sorted_population[0]\n",
    "    print(\"Best Route: %s (Total Distance: %f)\" % (genome_to_cities(best_genome), 1/fitness_func(best_genome)))\n",
    "    print(\"\")\n",
    "    return best_genome\n",
    "\n",
    "\n",
    "\n",
    "\n",
    "def run_evolution(\n",
    "        populate_func: PopulateFunc,\n",
    "        fitness_func: FitnessFunc,\n",
    "        fitness_limit: int,\n",
    "        selection_func: SelectionFunc = selection_pair,\n",
    "        crossover_func: CrossoverFunc = ordered_crossover,\n",
    "        mutation_func: MutationFunc = swap_mutation,\n",
    "        generation_limit: int = 100,\n",
    "        printer: Optional[PrinterFunc] = None) \\\n",
    "        -> Tuple[Genome, int]:\n",
    "    population = populate_func()\n",
    "\n",
    "    best_genome = None\n",
    "    best_fitness = float('-inf')\n",
    "\n",
    "    for i in range(generation_limit):\n",
    "        population = sorted(population, key=lambda genome: fitness_func(genome), reverse=True)\n",
    "\n",
    "        if printer is not None:\n",
    "            current_best_genome = printer(population, i, fitness_func)\n",
    "        else:\n",
    "            current_best_genome = population[0]\n",
    "\n",
    "        current_best_fitness = fitness_func(current_best_genome)\n",
    "\n",
    "        if current_best_fitness > best_fitness:\n",
    "            best_genome = current_best_genome\n",
    "            best_fitness = current_best_fitness\n",
    "\n",
    "        if best_fitness >= fitness_limit:\n",
    "            return best_genome, best_fitness\n",
    "\n",
    "        next_generation = population[0:2]\n",
    "\n",
    "        for j in range(int(len(population) / 2) - 1):\n",
    "            parents = selection_func(population, fitness_func)\n",
    "            offspring_a, offspring_b = crossover_func(parents[0], parents[1])\n",
    "            offspring_a = mutation_func(offspring_a)\n",
    "            offspring_b = mutation_func(offspring_b)\n",
    "            next_generation += [offspring_a, offspring_b]\n",
    "#            next_generation += [parents[0], parents[1]]\n",
    "\n",
    "        population = next_generation\n",
    "\n",
    "    # Return the best genome and its fitness value if the limit is not reached\n",
    "    return best_genome, 1/best_fitness\n",
    "\n",
    "\n",
    "\n",
    "def genome_to_cities(genome):\n",
    "    return [city_names[index] for index in genome]\n",
    "\n",
    "\n",
    "\n",
    "if __name__ == \"__main__\":\n",
    "    def tsp_population() -> Population:\n",
    "        return generate_population(size=50, genome_length=13)\n",
    "\n",
    "    tsp_fitness_limit = 10000 # Set an appropriate fitness limit\n",
    "    tsp_generation_limit = 100\n",
    "    tsp_printer: Optional[PrinterFunc] = print_stats\n",
    "\n",
    "    best_route, distance = run_evolution(\n",
    "    populate_func=tsp_population,\n",
    "    fitness_func=total_distance,\n",
    "    fitness_limit=tsp_fitness_limit,\n",
    "    selection_func=selection_pair,\n",
    "    crossover_func=ordered_crossover_1,\n",
    "    mutation_func=swap_mutation,\n",
    "    generation_limit=tsp_generation_limit,\n",
    "    printer=tsp_printer\n",
    ")\n",
    "\n",
    "print(\"Best Route:\",genome_to_cities( best_route))\n",
    "print(\"Total Distance:\", distance)\n",
    "\n"
   ]
  },
  {
   "cell_type": "code",
   "execution_count": 6,
   "id": "13211abb-2bb7-41ee-96c4-14c1be5406d8",
   "metadata": {},
   "outputs": [
    {
     "ename": "IndentationError",
     "evalue": "unexpected indent (2648324503.py, line 3)",
     "output_type": "error",
     "traceback": [
      "\u001b[0;36m  Cell \u001b[0;32mIn[6], line 3\u001b[0;36m\u001b[0m\n\u001b[0;31m    (-8,140),6\u001b[0m\n\u001b[0m    ^\u001b[0m\n\u001b[0;31mIndentationError\u001b[0m\u001b[0;31m:\u001b[0m unexpected indent\n"
     ]
    }
   ],
   "source": [
    "796.48\n",
    "(2,300),7\n",
    "    (-8,140),6\n",
    "    (100,103),5\n",
    "    (193,125),4\n",
    "    (193,200),3\n",
    "    (165,235),1\n",
    "    (80,239),2\n",
    "    (135,210),9\n",
    "    (40,210),10\n",
    "    (40,290),8\n",
    "    (20,190),12\n",
    "    (95,305)11"
   ]
  },
  {
   "cell_type": "code",
   "execution_count": 9,
   "id": "86ae38f9-030c-4678-8b40-909598ccd661",
   "metadata": {},
   "outputs": [
    {
     "name": "stdout",
     "output_type": "stream",
     "text": [
      "[0, 1, 2, 3]\n"
     ]
    }
   ],
   "source": [
    "from random import choices, randint, randrange, random, shuffle\n",
    "list=[0,1,2,3]\n",
    "shuffle(list[1:])\n",
    "print(list)"
   ]
  },
  {
   "cell_type": "code",
   "execution_count": 23,
   "id": "fefcbf49-9e35-45c3-b320-34abda2071ae",
   "metadata": {},
   "outputs": [
    {
     "name": "stdout",
     "output_type": "stream",
     "text": [
      "[0, 6, 8, 4, 2, 9, 7, 10, 5, 11, 12, 1, 3]\n"
     ]
    }
   ],
   "source": [
    "from typing import List, Optional, Callable, Tuple\n",
    "genome=[0]\n",
    "temp = [*range(1,13)]\n",
    "shuffle(temp)\n",
    "genome.extend(temp)\n",
    "print(genome)"
   ]
  },
  {
   "cell_type": "code",
   "execution_count": 3,
   "id": "2f1a71ec-7454-484d-9166-2b7c715a4903",
   "metadata": {},
   "outputs": [
    {
     "name": "stdout",
     "output_type": "stream",
     "text": [
      "Transform(Location(x=-7.530000, y=142.190002, z=0.500000), Rotation(pitch=0.000000, yaw=89.999954, roll=0.000000))\n"
     ]
    }
   ],
   "source": [
    "spawn_points = world.get_map().get_spawn_points()\n",
    "print(spawn_points[0])"
   ]
  },
  {
   "cell_type": "code",
   "execution_count": 8,
   "id": "170ab822-7ece-47dd-8b59-bca85ef1afea",
   "metadata": {},
   "outputs": [],
   "source": [
    "import carla #the sim library itself\n",
    "import cv2 #to work with images from cameras\n",
    "import time # towork with images from cameras\n",
    "import numpy as np #in this example to change image representation - re-shaping\n",
    "import math\n",
    "import random\n",
    "import sys\n",
    "client = carla.Client('localhost', 2000)\n",
    "world = client.get_world()\n",
    "#world = client.load_world('Town02')\n",
    "map=world.get_map()\n",
    "#astar()\n",
    "sys.path.append('/home/youmad55/Downloads/CARLA_0.9.15/PythonAPI/carla')\n",
    "from agents.navigation.global_route_planner import GlobalRoutePlanner\n",
    "grp = GlobalRoutePlanner(world.get_map(), 1)\n",
    "ws1=grp.trace_route(carla.Location(x=193,y=230,z=0),carla.Location(x=193,y=200,z=0))\n",
    "ws2=grp.trace_route(carla.Location(x=193,y=200,z=0),carla.Location(x=193,y=125,z=0))\n",
    "wa=map.get_waypoint(carla.Location(x=100,y=103,z=0))\n",
    "ws3=grp.trace_route(carla.Location(x=193,y=125,z=0),wa.transform.location)\n",
    "ws4=grp.trace_route(carla.Location(x=100,y=103,z=0),carla.Location(x=-8,y=140,z=0))\n",
    "ws5=grp.trace_route(carla.Location(x=-8,y=140,z=0),carla.Location(x=20,y=190,z=0))\n",
    "ws6=grp.trace_route(carla.Location(x=20,y=190,z=0),carla.Location(x=40,y=210,z=0))\n",
    "ws7=grp.trace_route(carla.Location(x=40,y=210,z=0),carla.Location(x=80,y=239,z=0))\n",
    "ws8=grp.trace_route(carla.Location(x=80,y=239,z=0),carla.Location(x=135,y=210,z=0))\n",
    "wa=map.get_waypoint(carla.Location(x=165,y=235,z=0))\n",
    "ws9=grp.trace_route(carla.Location(x=135,y=210,z=0),wa.transform.location)\n",
    "ws10=grp.trace_route(wa.transform.location,carla.Location(x=40,y=290,z=0))\n",
    "ws11=grp.trace_route(carla.Location(x=40,y=290,z=0),carla.Location(x=95,y=305,z=0))\n",
    "ws12=grp.trace_route(carla.Location(x=95,y=305,z=0),carla.Location(x=2,y=300,z=0))\n",
    "wss=[ws1,ws2,ws3,ws4,ws5,ws6,ws7,ws8,ws9,ws10,ws11,ws12]\n",
    "#wss=[ws3]\n",
    "\n",
    "route=[]\n",
    "for ws in wss:\n",
    "    route.extend(ws)\n",
    "    for w in ws:\n",
    "        world.debug.draw_string(w[0].transform.location, '^', draw_shadow=False,\n",
    "            color=carla.Color(r=0, g=0, b=255), life_time=200.0,\n",
    "            persistent_lines=True)\n",
    "#        print(w[0].transform.location)\n",
    "#print(route[0][0].transform)\n",
    "#x=carla.Location(x=100, y=103, z=0.000000)\n",
    "#w=world.get_map().get_waypoint(x)\n",
    "#world.debug.draw_string(w.transform.location, '^', draw_shadow=False,\n",
    "#            color=carla.Color(r=0, g=0, b=255), life_time=120.0,\n",
    "#            persistent_lines=True)\n",
    "#world.debug.draw_string(x, '^', draw_shadow=False,\n",
    "#            color=carla.Color(r=0, g=255, b=255), life_time=120.0,\n",
    "#            persistent_lines=True)"
   ]
  },
  {
   "cell_type": "code",
   "execution_count": 4,
   "id": "f0ece8ba-b946-4186-89eb-8eb66df1c2ba",
   "metadata": {},
   "outputs": [
    {
     "name": "stdout",
     "output_type": "stream",
     "text": [
      "Transform(Location(x=-7.530000, y=142.190002, z=0.500000), Rotation(pitch=0.000000, yaw=89.999954, roll=0.000000))\n"
     ]
    }
   ],
   "source": [
    "spawn_points = world.get_map().get_spawn_points()\n",
    "print(spawn_points[0])"
   ]
  },
  {
   "cell_type": "code",
   "execution_count": 22,
   "id": "dd9d0280-aef3-494f-96d2-43034dc9b136",
   "metadata": {},
   "outputs": [
    {
     "data": {
      "text/plain": [
       "'4.2.0'"
      ]
     },
     "execution_count": 22,
     "metadata": {},
     "output_type": "execute_result"
    }
   ],
   "source": [
    "cv2.__version__"
   ]
  },
  {
   "cell_type": "code",
   "execution_count": 5,
   "id": "4ef2f5b8-1a59-481b-a02a-5024533a8071",
   "metadata": {},
   "outputs": [
    {
     "name": "stdout",
     "output_type": "stream",
     "text": [
      "<class 'NoneType'>\n",
      "89.99995422363281\n"
     ]
    }
   ],
   "source": [
    "vehicle_bp = world.get_blueprint_library().filter('*mini*')\n",
    "spawn_points = world.get_map().get_spawn_points()\n",
    "#start_point = carla.Transform(carla.Location(x=193,y=230,z=0.5),carla.Rotation(roll=0,pitch=0,yaw=90))\n",
    "start_point = spawn_points[0]\n",
    "vehicle = world.try_spawn_actor(vehicle_bp[0], start_point)\n",
    "print(type(vehicle))\n",
    "print(start_point.rotation.yaw)\n",
    "for sensor in world.get_actors().filter('*sensor*'):\n",
    "    sensor.destroy()\n",
    "for actor in world.get_actors().filter('*vehicle*'):\n",
    "    actor.destroy()"
   ]
  },
  {
   "cell_type": "code",
   "execution_count": 9,
   "id": "5cea9124-93f8-42d2-8581-138bf03d8f22",
   "metadata": {},
   "outputs": [
    {
     "data": {
      "text/plain": [
       "carla.libcarla.Transform"
      ]
     },
     "execution_count": 9,
     "metadata": {},
     "output_type": "execute_result"
    }
   ],
   "source": [
    "spawn_points = world.get_map().get_spawn_points()\n",
    "#type(spawn_points[0])\n",
    "start_point = carla.Transform(carla.Location(x=193,y=230,z=0.5),carla.Rotation(roll=0,pitch=0,yaw=90))\n",
    "type(start_point)\n"
   ]
  },
  {
   "cell_type": "code",
   "execution_count": 15,
   "id": "ee22e06e-30a3-487b-941a-fca7e71b034e",
   "metadata": {},
   "outputs": [
    {
     "data": {
      "text/plain": [
       "89.99995422363281"
      ]
     },
     "execution_count": 15,
     "metadata": {},
     "output_type": "execute_result"
    }
   ],
   "source": [
    "spawn_points[0].rotation.yaw"
   ]
  },
  {
   "cell_type": "code",
   "execution_count": 4,
   "id": "e6065941-8294-4ef6-a0ff-7b8f1e18530a",
   "metadata": {},
   "outputs": [],
   "source": [
    "#-3.6800057888031006\n",
    "#-234.10997009277344\n",
    "#0.22161288559436798\n",
    "world.debug.draw_string(carla.Location(x=-3.6800057888031006,y=234.10997009277344,z=0.22161288559436798), '^', draw_shadow=False,\n",
    "            color=carla.Color(r=0, g=0, b=255), life_time=200.0,\n",
    "            persistent_lines=True)"
   ]
  },
  {
   "cell_type": "code",
   "execution_count": 6,
   "id": "5d71c316-f742-4abe-bb0c-a3b119e5eba4",
   "metadata": {},
   "outputs": [
    {
     "name": "stdout",
     "output_type": "stream",
     "text": [
      "193.6953125\n",
      "229.99984741210938\n",
      "0.0\n",
      "0.0\n",
      "0.0\n",
      "-90.01294708251953\n"
     ]
    }
   ],
   "source": [
    "map=world.get_map()\n",
    "\n",
    "wa=map.get_waypoint(carla.Location(x=193,y=230,z=0))\n",
    "print(wa.transform.location.x)\n",
    "print(wa.transform.location.y)\n",
    "print(wa.transform.location.z)\n",
    "print(wa.transform.rotation.roll)\n",
    "print(wa.transform.rotation.pitch)\n",
    "print(wa.transform.rotation.yaw)"
   ]
  },
  {
   "cell_type": "code",
   "execution_count": null,
   "id": "ee8b5889-c4ef-4e55-94fe-d0ebb7035630",
   "metadata": {},
   "outputs": [],
   "source": []
  }
 ],
 "metadata": {
  "kernelspec": {
   "display_name": "Python 3 (ipykernel)",
   "language": "python",
   "name": "python3"
  },
  "language_info": {
   "codemirror_mode": {
    "name": "ipython",
    "version": 3
   },
   "file_extension": ".py",
   "mimetype": "text/x-python",
   "name": "python",
   "nbconvert_exporter": "python",
   "pygments_lexer": "ipython3",
   "version": "3.8.10"
  }
 },
 "nbformat": 4,
 "nbformat_minor": 5
}
