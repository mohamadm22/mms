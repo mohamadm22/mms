{
 "cells": [
  {
   "cell_type": "code",
   "execution_count": 1,
   "id": "46c96549-d95b-410a-bc97-f385bbbc393f",
   "metadata": {},
   "outputs": [
    {
     "name": "stdout",
     "output_type": "stream",
     "text": [
      "Map(name=Town01)\n"
     ]
    }
   ],
   "source": [
    "import carla\n",
    "import xml.etree.ElementTree as ET\n",
    "client = carla.Client('localhost', 2000)\n",
    "#world = client.get_world()\n",
    "world = client.load_world('Town02')\n",
    "myFile = ET.parse(\"/home/youmad55/Downloads/CARLA_0.9.15/CarlaUE4/Content/Carla/Maps/OpenDrive/Town01.xodr\")\n",
    "root = myFile.getroot()\n",
    "xodrStr = ET.tostring(root, encoding=\"utf8\" ,method=\"xml\")\n",
    "map=carla.Map(\"Town01\",xodrStr)\n",
    "print(map)"
   ]
  },
  {
   "cell_type": "code",
   "execution_count": null,
   "id": "cb6e16c3-00bd-43a5-aece-023eeda82b81",
   "metadata": {},
   "outputs": [],
   "source": [
    "import glob\n",
    "import os\n",
    "import sys\n",
    "import time\n",
    "import xml.etree.ElementTree as ET\n",
    "import random\n",
    "\n",
    "\n",
    "myFile = ET.parse(\"/home/youmad55/Downloads/CARLA_0.9.15/CarlaUE4/Content/Carla/Maps/OpenDrive/Town01.xodr\")\n",
    "root = myFile.getroot()\n",
    "xodrStr = ET.tostring(root, encoding=\"utf8\" ,method=\"xml\")\n",
    "\n",
    "\n",
    "try:\n",
    "    sys.path.append(glob.glob('../carla/dist/carla-*%d.%d-%s.egg' % (\n",
    "        sys.version_info.major,\n",
    "        sys.version_info.minor,\n",
    "        'win-amd64' if os.name == 'nt' else 'linux-x86_64'))[0])\n",
    "except IndexError:\n",
    "    pass\n",
    "\n",
    "import carla\n",
    "\n",
    "actor_list = []\n",
    "\n",
    "\n",
    "try:\n",
    "\n",
    "    client = carla.Client(\"localhost\", 2000)\n",
    "    client.set_timeout(10.0)\n",
    "    world = client.generate_opendrive_world(opendrive=xodrStr)"
   ]
  },
  {
   "cell_type": "code",
   "execution_count": 12,
   "id": "f68b833c-27cd-4893-8a1e-93392aeab3ad",
   "metadata": {},
   "outputs": [],
   "source": [
    "#import carla #the sim library itself\n",
    "\n",
    "# connect to the sim \n",
    "#client = carla.Client('localhost', 2000)\n",
    "#world = client.get_world()\n",
    "#world = client.load_world('Town02')\n",
    "waypoint_list = map.generate_waypoints(1.0)\n",
    "for waypoint in waypoint_list:\n",
    "    world.debug.draw_string(waypoint.transform.location, '^', draw_shadow=False,\n",
    "        color=carla.Color(r=0, g=255, b=0), life_time=60.0,\n",
    "        persistent_lines=True)"
   ]
  },
  {
   "cell_type": "code",
   "execution_count": null,
   "id": "1d761516-8666-44a1-9fb0-acb85efcdee2",
   "metadata": {},
   "outputs": [],
   "source": []
  },
  {
   "cell_type": "code",
   "execution_count": null,
   "id": "68424088-3029-4021-b988-bee4650ffce4",
   "metadata": {},
   "outputs": [],
   "source": []
  }
 ],
 "metadata": {
  "kernelspec": {
   "display_name": "Python 3 (ipykernel)",
   "language": "python",
   "name": "python3"
  },
  "language_info": {
   "codemirror_mode": {
    "name": "ipython",
    "version": 3
   },
   "file_extension": ".py",
   "mimetype": "text/x-python",
   "name": "python",
   "nbconvert_exporter": "python",
   "pygments_lexer": "ipython3",
   "version": "3.8.10"
  }
 },
 "nbformat": 4,
 "nbformat_minor": 5
}
